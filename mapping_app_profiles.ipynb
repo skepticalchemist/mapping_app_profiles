{
 "cells": [
  {
   "cell_type": "markdown",
   "metadata": {},
   "source": [
    " #  Mapping apps for profitability at the App Store and Play Store\n",
    "  **Individual Project**\n",
    " \n",
    " ## Project overview\n",
    "According to [Knowband](https://www.knowband.com/blog/mobile-app/growth-of-mobile-app-market/) the mobile app market is growing fast, and just to have an idea of how big this industry is, it's believed that its economy numbers will be around $188.9B by 2020. In this scenario, regardless of the app monetization model, data analysis of app profiles can help in improving the profitability of the business.\n",
    "\n",
    "This project is about understanding data and using the knowledge acquired in this process to improve business strategy. The two data sets used here are from [App Store](https://www.kaggle.com/ramamet4/app-store-apple-data-set-10k-apps/home) and [Google Play](https://www.kaggle.com/lava18/google-play-store-apps/home). We will focus on free English apps, trying to understand what type of apps would probably attract more users.\n",
    "\n",
    "## Goal\n",
    "* Apply mobile app data analytics to get insights that could improve the business strategy.\n",
    "\n",
    "## Tools\n",
    "* **Python** \n",
    "* **Jupyter Lab**\n",
    "* **Matplotlib**\n",
    "\n",
    "## Getting to know the data\n",
    "First of all, we need to know the data sets by exploring them. This step will be facilitated by creating a function named `explore_data()` that will print rows in a more readable way and show the number of rows and columns of a given data set."
   ]
  },
  {
   "cell_type": "code",
   "execution_count": 1,
   "metadata": {},
   "outputs": [],
   "source": [
    "# Exploring data sets with the user-defined function explore_data()\n",
    "def explore_data(dataset, start, end, rows_and_columns=False):     \n",
    "    \"\"\"\n",
    "    Prints rows in a readable way and then shows the number of rows and columns of a selected data set.\n",
    "    \n",
    "    : dataset, expected to be a list\n",
    "    : start and end, integers that represent the starting and ending indices of a slice from the data set\n",
    "    : rows_and_columns is a boolean whose default argument is False; if it is True prints the number of rows and columns  \n",
    "    : the function expects data doesn't have a header row, otherwise it will print one more row compared to the actual lenght\n",
    "    \"\"\"\n",
    "    dataset_slice = dataset[start:end]\n",
    "    for row in dataset_slice:\n",
    "        print(row)\n",
    "        print('\\n')  # adds an empty new line after each row\n",
    "        \n",
    "    if rows_and_columns:\n",
    "        print('Number of rows:', len(dataset))\n",
    "        print('Number of columns', len(dataset[0]))"
   ]
  },
  {
   "cell_type": "markdown",
   "metadata": {},
   "source": [
    "We'll now open both data sets to explore them later. Note that the header row will be stored in a separated list."
   ]
  },
  {
   "cell_type": "code",
   "execution_count": 2,
   "metadata": {},
   "outputs": [],
   "source": [
    "# Opening the App Store and Google Play data set files\n",
    "from csv import reader\n",
    "\n",
    "# App Store data set\n",
    "apple_file = open('AppleStore.csv', encoding=\"utf8\")         \n",
    "read_apple = reader(apple_file)\n",
    "app_store = list(read_apple)\n",
    "app_store_header = app_store[0]\n",
    "app_store = app_store[1:]\n",
    "\n",
    "# Google play data set\n",
    "google_file = open('googleplaystore.csv', encoding='utf8')   \n",
    "read_google = reader(google_file)\n",
    "play_store = list(read_google)\n",
    "play_store_header = play_store[0]\n",
    "play_store =play_store[1:]"
   ]
  },
  {
   "cell_type": "markdown",
   "metadata": {},
   "source": [
    "Let's see how the data look like. For this we'll print the header row, the first 3 rows of the data set, and the total numbers of rows and columns with the help from the user-defined function `explore_data()`. At first, we'll take a look at the App Store and then at the Play Store data sets."
   ]
  },
  {
   "cell_type": "code",
   "execution_count": 3,
   "metadata": {},
   "outputs": [
    {
     "name": "stdout",
     "output_type": "stream",
     "text": [
      "\n",
      "|||||||||||||||||||||||||||||||||||||||| APP STORE DATA SET ||||||||||||||||||||||||||||||||||||||||\n",
      "\n",
      "['', 'id', 'track_name', 'size_bytes', 'currency', 'price', 'rating_count_tot', 'rating_count_ver', 'user_rating', 'user_rating_ver', 'ver', 'cont_rating', 'prime_genre', 'sup_devices.num', 'ipadSc_urls.num', 'lang.num', 'vpp_lic'] \n",
      "\n",
      "['1', '281656475', 'PAC-MAN Premium', '100788224', 'USD', '3.99', '21292', '26', '4', '4.5', '6.3.5', '4+', 'Games', '38', '5', '10', '1']\n",
      "\n",
      "\n",
      "['2', '281796108', 'Evernote - stay organized', '158578688', 'USD', '0', '161065', '26', '4', '3.5', '8.2.2', '4+', 'Productivity', '37', '5', '23', '1']\n",
      "\n",
      "\n",
      "['3', '281940292', 'WeatherBug - Local Weather, Radar, Maps, Alerts', '100524032', 'USD', '0', '188583', '2822', '3.5', '4.5', '5.0.0', '4+', 'Weather', '37', '5', '3', '1']\n",
      "\n",
      "\n",
      "Number of rows: 7197\n",
      "Number of columns 17\n",
      "^^^^^^^^^^^^^^^^^^^^^^^^^^^^^^^^^^^^^^^^ APP STORE DATA SET ^^^^^^^^^^^^^^^^^^^^^^^^^^^^^^^^^^^^^^^^\n",
      "\n"
     ]
    }
   ],
   "source": [
    "print('\\n{:|^100}\\n'.format(' APP STORE DATA SET '))\n",
    "print(app_store_header, '\\n')\n",
    "explore_data(app_store, 0, 3, True)\n",
    "print('{:^^100}\\n'.format(' APP STORE DATA SET '))"
   ]
  },
  {
   "cell_type": "markdown",
   "metadata": {},
   "source": [
    "As we can see from above, the first column in the App Store data set contains the item number represented by an integer. Since this information doesn't add any value, we can delete it."
   ]
  },
  {
   "cell_type": "code",
   "execution_count": 4,
   "metadata": {},
   "outputs": [],
   "source": [
    "# deleting row containing item number in App Store data and its respective header\n",
    "del app_store_header[0]\n",
    "for item in range(0, len(app_store)):\n",
    "     del(app_store[item][0])"
   ]
  },
  {
   "cell_type": "markdown",
   "metadata": {},
   "source": [
    "Let's see what have changed in the App Store data set after this deletion."
   ]
  },
  {
   "cell_type": "code",
   "execution_count": 5,
   "metadata": {},
   "outputs": [
    {
     "name": "stdout",
     "output_type": "stream",
     "text": [
      "\n",
      "|||||||||||||||||||||||||||||||||||||||| APP STORE DATA SET ||||||||||||||||||||||||||||||||||||||||\n",
      "\n",
      "['id', 'track_name', 'size_bytes', 'currency', 'price', 'rating_count_tot', 'rating_count_ver', 'user_rating', 'user_rating_ver', 'ver', 'cont_rating', 'prime_genre', 'sup_devices.num', 'ipadSc_urls.num', 'lang.num', 'vpp_lic'] \n",
      "\n",
      "['281656475', 'PAC-MAN Premium', '100788224', 'USD', '3.99', '21292', '26', '4', '4.5', '6.3.5', '4+', 'Games', '38', '5', '10', '1']\n",
      "\n",
      "\n",
      "['281796108', 'Evernote - stay organized', '158578688', 'USD', '0', '161065', '26', '4', '3.5', '8.2.2', '4+', 'Productivity', '37', '5', '23', '1']\n",
      "\n",
      "\n",
      "['281940292', 'WeatherBug - Local Weather, Radar, Maps, Alerts', '100524032', 'USD', '0', '188583', '2822', '3.5', '4.5', '5.0.0', '4+', 'Weather', '37', '5', '3', '1']\n",
      "\n",
      "\n",
      "Number of rows: 7197\n",
      "Number of columns 16\n",
      "^^^^^^^^^^^^^^^^^^^^^^^^^^^^^^^^^^^^^^^^ APP STORE DATA SET ^^^^^^^^^^^^^^^^^^^^^^^^^^^^^^^^^^^^^^^^\n",
      "\n"
     ]
    }
   ],
   "source": [
    "print('\\n{:|^100}\\n'.format(' APP STORE DATA SET '))\n",
    "print(app_store_header, '\\n')\n",
    "explore_data(app_store, 0, 3, True)\n",
    "print('{:^^100}\\n'.format(' APP STORE DATA SET '))"
   ]
  },
  {
   "cell_type": "code",
   "execution_count": 6,
   "metadata": {},
   "outputs": [
    {
     "name": "stdout",
     "output_type": "stream",
     "text": [
      "\n",
      "||||||||||||||||||||||||||||||||||||||| PLAY STORE DATA SET ||||||||||||||||||||||||||||||||||||||||\n",
      "\n",
      "['App', 'Category', 'Rating', 'Reviews', 'Size', 'Installs', 'Type', 'Price', 'Content Rating', 'Genres', 'Last Updated', 'Current Ver', 'Android Ver'] \n",
      "\n",
      "['Coloring book moana', 'ART_AND_DESIGN', '3.9', '967', '14M', '500,000+', 'Free', '0', 'Everyone', 'Art & Design;Pretend Play', 'January 15, 2018', '2.0.0', '4.0.3 and up']\n",
      "\n",
      "\n",
      "['U Launcher Lite – FREE Live Cool Themes, Hide Apps', 'ART_AND_DESIGN', '4.7', '87510', '8.7M', '5,000,000+', 'Free', '0', 'Everyone', 'Art & Design', 'August 1, 2018', '1.2.4', '4.0.3 and up']\n",
      "\n",
      "\n",
      "Number of rows: 10841\n",
      "Number of columns 13\n",
      "^^^^^^^^^^^^^^^^^^^^^^^^^^^^^^^^^^^^^^^ PLAY STORE DATA SET ^^^^^^^^^^^^^^^^^^^^^^^^^^^^^^^^^^^^^^^^\n",
      "\n"
     ]
    }
   ],
   "source": [
    "print('\\n{:|^100}\\n'.format(' PLAY STORE DATA SET '))\n",
    "print(play_store_header, '\\n')\n",
    "explore_data(play_store, 1, 3, True)\n",
    "print('{:^^100}\\n'.format(' PLAY STORE DATA SET '))"
   ]
  },
  {
   "cell_type": "markdown",
   "metadata": {},
   "source": [
    "At this point, we know that the data sets are formed by:\n",
    "* **App Store**: 7197 apps and 16 features;\n",
    "* **Play Store**: 10841 apps and 13 features.\n",
    "\n",
    "For the sake of clarity, the features (columns names) for each data set are described on **Tables 1** and **2**.\n",
    "\n",
    "**Table 1**. The 16 features in [data set](https://www.kaggle.com/ramamet4/app-store-apple-data-set-10k-apps/home) (Apple iOS App Store) of dimension 7197 rows $\\times$ 16 columns. Data collected in July 2017.\n",
    "\n",
    "|Column index |Feature            |Description                                     | \n",
    "|:-----------:|:------------------|:-----------------------------------------------|\n",
    "|0            |\"id\"               | App ID                                         |\n",
    "|1            |\"track_name\"       | App Name                                       | \n",
    "|2            |\"size_bytes\"       | Size (in Bytes)                                |\n",
    "|3            |\"currency\"         | Currency Type                                  |\n",
    "|4            |\"price\"            | Price amount                                   | \n",
    "|5            |\"rating_count_tot\" | User Rating counts (for all version)           |\n",
    "|6            |\"rating_count_ver\" | User Rating counts (for current version)       | \n",
    "|7            |\"user_rating\"      | Average User Rating value (for all version)    |\n",
    "|8            |\"user_rating_ver\"  | Average User Rating value (for current version)|\n",
    "|9            |\"ver\"              | Latest version code                            |\n",
    "|10           |\"cont_rating\"      | Content Rating                                 |\n",
    "|11           |\"prime_genre\"      | Primary Genre                                  | \n",
    "|12           |\"sup_devices.num\"  | Number of supporting devices                   |\n",
    "|13           |\"ipadSc_urls.num\"  | Number of screenshots showed for display       | \n",
    "|14           |\"lang.num\"         | Number of supported languages                  |\n",
    "|15           |\"vpp_lic\"          | Vpp Device Based Licensing Enabled             |\n",
    "\n",
    "\n",
    "**Table 2**. The 13 features in [data set](https://www.kaggle.com/lava18/google-play-store-apps/home) (Google Play Store Apps) of dimension 10841 rows $\\times$ 13 columns. Data collected in August 2018.\n",
    "\n",
    "|Column index       |Feature            |Description                                                          | \n",
    "|:-----------------:|:------------------|:--------------------------------------------------------------------|\n",
    "|0                  |\"App\"              | Application name                                                    |\n",
    "|1                  |\"Category\"         | Category the app belongs to                                         | \n",
    "|2                  |\"Rating\"           | Overall user rating of the app                                      |\n",
    "|3                  |\"Reviews\"          | Number of user reviews for the app                                  |\n",
    "|4                  |\"Size\"             | Size of the app                                                     | \n",
    "|5                  |\"Installs\"         | Number of user downloads/installs for the app                       |\n",
    "|6                  |\"Type\"             | Paid or free                                                        | \n",
    "|7                  |\"Price\"            | Price of the app                                                    |\n",
    "|8                  |\"Content Rating\"   | Age group the app is targeted at - Children / Mature 21+ / Adult    |\n",
    "|9                  |\"Genres\"           | An app can belong to multiple genres (apart from its main category) |\n",
    "|10                 |\"Last Updated\"     | Date when the app was last updated on Play Store                    |\n",
    "|11                 |\"Current Ver\"      | Current version of the app available on Play Store                  | \n",
    "|12                 |\"Android Ver\"      | Min requered Android version                                        |\n",
    "\n",
    "\n",
    "From the knowledge of the data, it seems interesting to explore further the following features:\n",
    "* **App Store**: *track_name, currency, price, rating_count_tot, rating_count_ver and prime_genre*  \n",
    "* **Play Store**: *App, Category, Reviews, Installs, Type, Content Rating and Genres*"
   ]
  },
  {
   "cell_type": "markdown",
   "metadata": {},
   "source": [
    "## Data cleasing\n",
    "Before starting the analysis, we need to ensure the consistency and quality of our data. In this preparation step, we'll:\n",
    "* correct or remove inacurate data and;\n",
    "* remove possible duplicates. \n",
    "\n",
    "Moreover, since we are interested in free English apps only, we also must:\n",
    "* remove non-English apps and;\n",
    "* remove paid apps.  \n",
    "\n",
    "### Deleting incorrect data\n",
    "According to this [discussion](https://www.kaggle.com/lava18/google-play-store-apps/discussion/66015), there is an error in row 10472 of Play Store data set: the feature \"Category\" is missing what causes a column shift in this row. Let's take a look at this:"
   ]
  },
  {
   "cell_type": "code",
   "execution_count": 7,
   "metadata": {},
   "outputs": [
    {
     "name": "stdout",
     "output_type": "stream",
     "text": [
      "['App', 'Category', 'Rating', 'Reviews', 'Size', 'Installs', 'Type', 'Price', 'Content Rating', 'Genres', 'Last Updated', 'Current Ver', 'Android Ver'] \n",
      "\n",
      "['Life Made WI-Fi Touchscreen Photo Frame', '1.9', '19', '3.0M', '1,000+', 'Free', '0', 'Everyone', '', 'February 11, 2018', '1.0.19', '4.0 and up']\n"
     ]
    }
   ],
   "source": [
    "print(play_store_header, '\\n')\n",
    "print(play_store[10472]) "
   ]
  },
  {
   "cell_type": "markdown",
   "metadata": {},
   "source": [
    "We know from the previous exploration that the Play Store data set is formed by 13 columns. We also saw that the row 10472 have only 12 entries because the second entry (\"Category\") is missing. At this point, we could ask: what if we didn't have the information from the discussion list? How could we discover it? An easy way to do this is comparing the number of items in each row in the `play_store` list to the number of existing items in the header row:"
   ]
  },
  {
   "cell_type": "code",
   "execution_count": 8,
   "metadata": {},
   "outputs": [
    {
     "name": "stdout",
     "output_type": "stream",
     "text": [
      "row content: ['Life Made WI-Fi Touchscreen Photo Frame', '1.9', '19', '3.0M', '1,000+', 'Free', '0', 'Everyone', '', 'February 11, 2018', '1.0.19', '4.0 and up']\n",
      "row index: 10472\n"
     ]
    }
   ],
   "source": [
    "# comparing the number of items  in each row with respective number in the header row\n",
    "for row in play_store:\n",
    "    if len(row) != len(play_store_header):\n",
    "        print('row content: {}'.format(row))\n",
    "        print('row index: {}'.format(play_store.index(row)))"
   ]
  },
  {
   "cell_type": "markdown",
   "metadata": {},
   "source": [
    "The only missing value of this type was found on row 10472. We just confirm the information and now we can remove this data. This type of discrepancy was not found in the App Store data set."
   ]
  },
  {
   "cell_type": "code",
   "execution_count": 9,
   "metadata": {},
   "outputs": [],
   "source": [
    "del play_store[10472]    # Play Store: delecting a row with missing feature "
   ]
  },
  {
   "cell_type": "code",
   "execution_count": 10,
   "metadata": {},
   "outputs": [
    {
     "data": {
      "text/plain": [
       "10840"
      ]
     },
     "execution_count": 10,
     "metadata": {},
     "output_type": "execute_result"
    }
   ],
   "source": [
    "len(play_store)"
   ]
  },
  {
   "cell_type": "markdown",
   "metadata": {},
   "source": [
    "The number of rows in Play Store data set now changed from 10841 to 10840.\n",
    "\n",
    "### Removing duplicates\n",
    "According to the [discussion section](https://www.kaggle.com/lava18/google-play-store-apps/discussion) of the Play Store data set, some apps have duplicated entries. The app's name, located in the first column of the Play Store data set, can be used as a criterion to search for these duplicates. Using it we can create two lists: the first one containing only unique, non-repeated app names and the second containing the duplicated one."
   ]
  },
  {
   "cell_type": "code",
   "execution_count": 11,
   "metadata": {},
   "outputs": [
    {
     "name": "stdout",
     "output_type": "stream",
     "text": [
      "Number of duplicated apps: 1181\n",
      "\n",
      "\n",
      "Examples of duplicated apps:\n",
      " ['Quick PDF Scanner + OCR FREE', 'Box', 'Google My Business', 'ZOOM Cloud Meetings', 'join.me - Simple Meetings', 'Box', 'Zenefits', 'Google Ads', 'Google My Business', 'Slack', 'FreshBooks Classic', 'Insightly CRM', 'QuickBooks Accounting: Invoicing & Expenses', 'HipChat - Chat Built for Teams', 'Xero Accounting Software']\n"
     ]
    }
   ],
   "source": [
    "duplicated_apps = []\n",
    "unique_apps = []\n",
    "\n",
    "for app in play_store:   # searching for duplicates\n",
    "    name = app[0]        # app's name\n",
    "    if name in  unique_apps:\n",
    "        duplicated_apps.append(name)\n",
    "    else:\n",
    "        unique_apps.append(name)\n",
    "\n",
    "print(f'Number of duplicated apps: {len(duplicated_apps)}')\n",
    "print('\\n')\n",
    "print(f'Examples of duplicated apps:\\n {duplicated_apps[:15]}')"
   ]
  },
  {
   "cell_type": "markdown",
   "metadata": {},
   "source": [
    "There are **1181** cases of non-unique apps in the Play Store data set,  for example, 'Instagram' occurs 4$\\times$, 'Facebook' 2$\\times$ and 'Slack' 3$\\times$, etc: \n"
   ]
  },
  {
   "cell_type": "code",
   "execution_count": 12,
   "metadata": {},
   "outputs": [
    {
     "name": "stdout",
     "output_type": "stream",
     "text": [
      "['Instagram', 'SOCIAL', '4.5', '66577313', 'Varies with device', '1,000,000,000+', 'Free', '0', 'Teen', 'Social', 'July 31, 2018', 'Varies with device', 'Varies with device']\n",
      "['Instagram', 'SOCIAL', '4.5', '66577446', 'Varies with device', '1,000,000,000+', 'Free', '0', 'Teen', 'Social', 'July 31, 2018', 'Varies with device', 'Varies with device']\n",
      "['Instagram', 'SOCIAL', '4.5', '66577313', 'Varies with device', '1,000,000,000+', 'Free', '0', 'Teen', 'Social', 'July 31, 2018', 'Varies with device', 'Varies with device']\n",
      "['Instagram', 'SOCIAL', '4.5', '66509917', 'Varies with device', '1,000,000,000+', 'Free', '0', 'Teen', 'Social', 'July 31, 2018', 'Varies with device', 'Varies with device']\n"
     ]
    }
   ],
   "source": [
    "for app in play_store:\n",
    "    name = app[0]\n",
    "    if name == 'Instagram':\n",
    "        print(app)"
   ]
  },
  {
   "cell_type": "code",
   "execution_count": 13,
   "metadata": {},
   "outputs": [
    {
     "name": "stdout",
     "output_type": "stream",
     "text": [
      "['Facebook', 'SOCIAL', '4.1', '78158306', 'Varies with device', '1,000,000,000+', 'Free', '0', 'Teen', 'Social', 'August 3, 2018', 'Varies with device', 'Varies with device']\n",
      "['Facebook', 'SOCIAL', '4.1', '78128208', 'Varies with device', '1,000,000,000+', 'Free', '0', 'Teen', 'Social', 'August 3, 2018', 'Varies with device', 'Varies with device']\n"
     ]
    }
   ],
   "source": [
    "for app in play_store:\n",
    "    name = app[0]\n",
    "    if name == 'Facebook':\n",
    "        print(app)"
   ]
  },
  {
   "cell_type": "code",
   "execution_count": 14,
   "metadata": {},
   "outputs": [
    {
     "name": "stdout",
     "output_type": "stream",
     "text": [
      "['Slack', 'BUSINESS', '4.4', '51507', 'Varies with device', '5,000,000+', 'Free', '0', 'Everyone', 'Business', 'August 2, 2018', 'Varies with device', 'Varies with device']\n",
      "['Slack', 'BUSINESS', '4.4', '51507', 'Varies with device', '5,000,000+', 'Free', '0', 'Everyone', 'Business', 'August 2, 2018', 'Varies with device', 'Varies with device']\n",
      "['Slack', 'BUSINESS', '4.4', '51510', 'Varies with device', '5,000,000+', 'Free', '0', 'Everyone', 'Business', 'August 2, 2018', 'Varies with device', 'Varies with device']\n"
     ]
    }
   ],
   "source": [
    "for app in play_store:\n",
    "    name = app[0]\n",
    "    if name == 'Slack':\n",
    "        print(app)"
   ]
  },
  {
   "cell_type": "markdown",
   "metadata": {},
   "source": [
    "As we can see from the examples above, the only difference between these entries is the value on the fourth column that corresponds to the number of user reviews. Since a higher number of reviews means more recent data, this information can be used as a criterion for removing duplicates instead of randon deletion.\n",
    "\n",
    "Considering that the Play Store data set is formed by 10840 entries (header row excluded and after deletion of one wrong row) and that there are 1181 duplicates,  this will give the following number of unique entries:"
   ]
  },
  {
   "cell_type": "code",
   "execution_count": 15,
   "metadata": {},
   "outputs": [
    {
     "name": "stdout",
     "output_type": "stream",
     "text": [
      "Expected length of Play Store data: 9659\n"
     ]
    }
   ],
   "source": [
    "print(f'Expected length of Play Store data: {len(play_store) - 1181}')"
   ]
  },
  {
   "cell_type": "markdown",
   "metadata": {},
   "source": [
    "The duplicates will be removed as follows:\n",
    "* First, building a dictionary, where each _key_ is a unique app name and the corresponding _value_ is the highest number of reviews of that app;\n",
    "* Second, using the information stored in this dictionary to create a new data set, which will have only one entry per app (and for each app, we'll only select the entry with the highest number of reviews)."
   ]
  },
  {
   "cell_type": "markdown",
   "metadata": {},
   "source": [
    "**1.** Building the dictionary `reviews_max`, where *key = 'app name'* and *value = 'highest number of reviews'*, for example, `reviews_max{'Instagram': '66577446'}`:"
   ]
  },
  {
   "cell_type": "code",
   "execution_count": 16,
   "metadata": {},
   "outputs": [],
   "source": [
    "reviews_max = {}                # dictionary where 'key = app name' and 'value = highest number of reviews'\n",
    "for app in play_store:          # loop through Play Store data set, header excluded\n",
    "    app_name = app[0]           # get the app name located in position 0\n",
    "    n_reviews = float(app[3])   # converts the number of reviews (located in position 3) to float\n",
    "    if (app_name in reviews_max) and (reviews_max[app_name] < n_reviews):\n",
    "        reviews_max[name] = n_reviews\n",
    "    elif app_name not in reviews_max:\n",
    "        reviews_max[app_name] = n_reviews"
   ]
  },
  {
   "cell_type": "markdown",
   "metadata": {},
   "source": [
    "We can compare this result with its previous estimate:"
   ]
  },
  {
   "cell_type": "code",
   "execution_count": 17,
   "metadata": {},
   "outputs": [
    {
     "name": "stdout",
     "output_type": "stream",
     "text": [
      "Expected length: 9659\n",
      "Actual length:   9659\n"
     ]
    }
   ],
   "source": [
    "print(f'Expected length: {len(play_store) - 1181}')        # expected lenght excluding duplicates\n",
    "print(f'Actual length:   {len(reviews_max)}')              # checking the size of the new dictionary"
   ]
  },
  {
   "cell_type": "markdown",
   "metadata": {},
   "source": [
    "**2.** Removing duplicates with the help of dictionary `reviews_max`:"
   ]
  },
  {
   "cell_type": "code",
   "execution_count": 18,
   "metadata": {},
   "outputs": [],
   "source": [
    "play_store_clean = []     # stores cleaned data set\n",
    "already_added = []        # stores app name only once\n",
    "\n",
    "for app in play_store:          # loop through Play Store data\n",
    "    app_name = app[0]           # get the app name located in position 0\n",
    "    n_reviews = float(app[3])   # converts the number of reviews (located in position 3) to float\n",
    "    if (n_reviews == reviews_max[app_name]) and (app_name not in already_added):   # the second condition is neeeded to account for those cases \n",
    "        play_store_clean.append(app)                                               # where the highest number of reviews of a duplicate app is \n",
    "        already_added.append(app_name)                                             # the same for more than one entry  "
   ]
  },
  {
   "cell_type": "markdown",
   "metadata": {},
   "source": [
    "Let's explore the new data set using our function `explore_data()`:"
   ]
  },
  {
   "cell_type": "code",
   "execution_count": 19,
   "metadata": {},
   "outputs": [
    {
     "name": "stdout",
     "output_type": "stream",
     "text": [
      "\n",
      "||||||||||||||||||||||||||||||||||||||| PLAY STORE DATA SET ||||||||||||||||||||||||||||||||||||||||\n",
      "\n",
      "['Photo Editor & Candy Camera & Grid & ScrapBook', 'ART_AND_DESIGN', '4.1', '159', '19M', '10,000+', 'Free', '0', 'Everyone', 'Art & Design', 'January 7, 2018', '1.0.0', '4.0.3 and up']\n",
      "\n",
      "\n",
      "['Coloring book moana', 'ART_AND_DESIGN', '3.9', '967', '14M', '500,000+', 'Free', '0', 'Everyone', 'Art & Design;Pretend Play', 'January 15, 2018', '2.0.0', '4.0.3 and up']\n",
      "\n",
      "\n",
      "['U Launcher Lite – FREE Live Cool Themes, Hide Apps', 'ART_AND_DESIGN', '4.7', '87510', '8.7M', '5,000,000+', 'Free', '0', 'Everyone', 'Art & Design', 'August 1, 2018', '1.2.4', '4.0.3 and up']\n",
      "\n",
      "\n",
      "Number of rows: 9659\n",
      "Number of columns 13\n",
      "^^^^^^^^^^^^^^^^^^^^^^^^^^^^^^^^^^^^^^^ PLAY STORE DATA SET ^^^^^^^^^^^^^^^^^^^^^^^^^^^^^^^^^^^^^^^^\n",
      "\n"
     ]
    }
   ],
   "source": [
    "print('\\n{:|^100}\\n'.format(' PLAY STORE DATA SET '))\n",
    "explore_data(play_store_clean, 0, 3, True)\n",
    "print('{:^^100}\\n'.format(' PLAY STORE DATA SET '))"
   ]
  },
  {
   "cell_type": "markdown",
   "metadata": {},
   "source": [
    "As expected from previous explanations, there are 9659 rows in the new cleaned data set. Duplicates were not found in the App Store data set."
   ]
  },
  {
   "cell_type": "markdown",
   "metadata": {},
   "source": [
    "### Removing non-English apps\n",
    "If we continue to explore our data sets, we'll observe that both of them contain non-English apps, as their names suggest (please see below). Since we are interested only in apps directed toward an English speaking audience, we must remove all non-English apps.  \n",
    "\n",
    "Considering that it's possible to get a number for each character using the built-in function `ord()`, and that the numbers corresponding to the most commonly characters used in English range from 0 to 127, according to the [ASCII](https://en.wikipedia.org/wiki/ASCII) system, we can create a function called `is_English()` to check if a character belongs to the common English character list and use it as the criterion to remove non-English apps.\n",
    "\n",
    "We also can see from our data sets, that even English apps have one or more non-English characters (please, see below), like emoticons, for example. So, if we set our new function to remove all non-English characters we also will lose important data that can be classified as non-English. A simple way to handle this problem is to allow for some non-English characters. A question that arises is, how many non-English characters should we allow? We'll address it soon, but first, let's take a look at our data:\n"
   ]
  },
  {
   "cell_type": "code",
   "execution_count": 20,
   "metadata": {},
   "outputs": [
    {
     "name": "stdout",
     "output_type": "stream",
     "text": [
      "\n",
      "|||||||||||||||||||||||||||||||||||||||||||| APP STORE |||||||||||||||||||||||||||||||||||||||||||||\n",
      "\n",
      "['340368403', 'クックパッド - No.1料理レシピ検索アプリ', '76644352', 'USD', '0', '115', '0', '3.5', '0', '17.5.1.0', '4+', 'Food & Drink', '37', '5', '1', '1']\n",
      "['379395415', '携程旅行-酒店、机票、火车票预订助手', '144488448', 'USD', '0', '312', '0', '3.5', '0', '7.4.1', '17+', 'Travel', '37', '5', '1', '1']\n",
      "['385724144', 'ホットペッパービューティー/サロン予約', '65892352', 'USD', '0', '9', '0', '4', '0', '4.14.1', '4+', 'Lifestyle', '37', '0', '1', '1']\n",
      "\n",
      "\n",
      "|||||||||||||||||||||||||||||||||||||||||||| PLAY STORE ||||||||||||||||||||||||||||||||||||||||||||\n",
      "\n",
      "['Flame - درب عقلك يوميا', 'EDUCATION', '4.6', '56065', '37M', '1,000,000+', 'Free', '0', 'Everyone', 'Education', 'July 26, 2018', '3.3', '4.1 and up']\n",
      "['🔥 Football Wallpapers 4K | Full HD Backgrounds 😍', 'ENTERTAINMENT', '4.7', '11661', '4.0M', '1,000,000+', 'Free', '0', 'Everyone', 'Entertainment', 'July 14, 2018', '1.1.3.2', '4.0.3 and up']\n",
      "['Homes.com 🏠 For Sale, Rent', 'HOUSE_AND_HOME', '4.0', '6000', '18M', '1,000,000+', 'Free', '0', 'Everyone', 'House & Home', 'July 28, 2018', '9.6.8', '4.1 and up']\n"
     ]
    }
   ],
   "source": [
    "print('\\n{:|^100}\\n'.format(' APP STORE '))\n",
    "print(app_store[261])\n",
    "print(app_store[454])\n",
    "print(app_store[487])\n",
    "print('')\n",
    "print('\\n{:|^100}\\n'.format(' PLAY STORE '))\n",
    "print(play_store[710])\n",
    "print(play_store[882])\n",
    "print(play_store[1452])"
   ]
  },
  {
   "cell_type": "markdown",
   "metadata": {},
   "source": [
    "As commented before, each character can be associated to a number using the built-in function `ord()`:"
   ]
  },
  {
   "cell_type": "code",
   "execution_count": 21,
   "metadata": {},
   "outputs": [
    {
     "name": "stdout",
     "output_type": "stream",
     "text": [
      "p =     112\n",
      "料 =   26009\n",
      "😍 = 128525\n",
      "テ =   12486\n",
      "🏠 =  127968\n"
     ]
    }
   ],
   "source": [
    "print('p = {:''>7}'.format(ord('p')))\n",
    "print('料 = {:''>7}'.format(ord('料')))\n",
    "print('😍 = {:''>6}'.format(ord('😍')))\n",
    "print('テ = {:''>7}'.format(ord('テ')))\n",
    "print('🏠 = {:''>7}'.format(ord('🏠')))"
   ]
  },
  {
   "cell_type": "markdown",
   "metadata": {},
   "source": [
    "Now it's time to create a new user-defined function `is_English()` and test it."
   ]
  },
  {
   "cell_type": "code",
   "execution_count": 22,
   "metadata": {},
   "outputs": [],
   "source": [
    "def is_Enlish(string):\n",
    "    \"\"\"\n",
    "    Takes in a string an returns False if there is any character in the string that doesn't belong \n",
    "    to the set of common English characters, otherwise it returns True. \n",
    "    \"\"\"\n",
    "    for character in string:       # loop through each character in a string\n",
    "        if ord(character) > 127:   # uses bult-in function ord() that returns an integer representing each character. \n",
    "            return False\n",
    "    return True"
   ]
  },
  {
   "cell_type": "code",
   "execution_count": 23,
   "metadata": {},
   "outputs": [
    {
     "name": "stdout",
     "output_type": "stream",
     "text": [
      "False\n",
      "False\n",
      "False\n",
      "True\n"
     ]
    }
   ],
   "source": [
    "print(is_Enlish('ホットペッパービューティー/サロン予約'))\n",
    "print(is_Enlish('Flame - درب عقلك يوميا'))\n",
    "print(is_Enlish('Homes.com 🏠 For Sale'))\n",
    "print(is_Enlish('Evernote - stay organized'))"
   ]
  },
  {
   "cell_type": "markdown",
   "metadata": {},
   "source": [
    "Now we can improve our function to allow a specific chosen number of non-English characters to be set as stated before:"
   ]
  },
  {
   "cell_type": "code",
   "execution_count": 24,
   "metadata": {},
   "outputs": [],
   "source": [
    "def is_English(string):\n",
    "    \"\"\"\n",
    "    Takes in a string an returns False if there is any character in the string that doesn't belong\n",
    "    to the set of common English characters, otherwise it returns True. \n",
    "    \"\"\"\n",
    "    non_ascii_count = 0\n",
    "    \n",
    "    for character in string:         # loop through each character in a string\n",
    "        if ord(character) > 127:     # uses bult-in function ord() that returns an integer representing each character. \n",
    "            non_ascii_count += 1#    # count for non-ascii characters\n",
    "            if non_ascii_count > 3:  # max limit for non-ascii characters = 3 \n",
    "                return False\n",
    "    return True"
   ]
  },
  {
   "cell_type": "markdown",
   "metadata": {},
   "source": [
    "Finally, we can use the function `is_English()` to remove non-English apps in both data sets."
   ]
  },
  {
   "cell_type": "code",
   "execution_count": 25,
   "metadata": {},
   "outputs": [],
   "source": [
    "app_store_english = []\n",
    "play_store_english = []\n",
    "app_store_non_english = []\n",
    "play_store_non_english = []\n",
    "\n",
    "for app in app_store:                    # filters non-english apps on App Store\n",
    "    app_name = app[1]\n",
    "    if is_English(app_name):\n",
    "        app_store_english.append(app)\n",
    "    else:\n",
    "        app_store_non_english.append(app)\n",
    "\n",
    "for app in play_store_clean:             #filters non-english apps on Play Store\n",
    "    app_name = app[0]\n",
    "    if is_English(app_name):\n",
    "        play_store_english.append(app)\n",
    "    else:\n",
    "        play_store_non_english.append(app)"
   ]
  },
  {
   "cell_type": "markdown",
   "metadata": {},
   "source": [
    "Two new data sets were created for each store: one with English apps and other with non-English apps:"
   ]
  },
  {
   "cell_type": "code",
   "execution_count": 26,
   "metadata": {},
   "outputs": [
    {
     "name": "stdout",
     "output_type": "stream",
     "text": [
      "\n",
      "|||||||||||||||||||||||||||||||| APP STORE DATA SET: : ENGLISH APPS ||||||||||||||||||||||||||||||||\n",
      "\n",
      "['281656475', 'PAC-MAN Premium', '100788224', 'USD', '3.99', '21292', '26', '4', '4.5', '6.3.5', '4+', 'Games', '38', '5', '10', '1']\n",
      "\n",
      "\n",
      "['281796108', 'Evernote - stay organized', '158578688', 'USD', '0', '161065', '26', '4', '3.5', '8.2.2', '4+', 'Productivity', '37', '5', '23', '1']\n",
      "\n",
      "\n",
      "['281940292', 'WeatherBug - Local Weather, Radar, Maps, Alerts', '100524032', 'USD', '0', '188583', '2822', '3.5', '4.5', '5.0.0', '4+', 'Weather', '37', '5', '3', '1']\n",
      "\n",
      "\n",
      "Number of rows: 6183\n",
      "Number of columns 16\n",
      "^^^^^^^^^^^^^^^^^^^^^^^^^^^^^^^^^^^^^^^^ APP STORE DATA SET ^^^^^^^^^^^^^^^^^^^^^^^^^^^^^^^^^^^^^^^^\n",
      "\n"
     ]
    }
   ],
   "source": [
    "print('\\n{:|^100}\\n'.format(' APP STORE DATA SET: : ENGLISH APPS '))\n",
    "explore_data(app_store_english, 0, 3, True)\n",
    "print('{:^^100}\\n'.format(' APP STORE DATA SET '))"
   ]
  },
  {
   "cell_type": "code",
   "execution_count": 27,
   "metadata": {},
   "outputs": [
    {
     "name": "stdout",
     "output_type": "stream",
     "text": [
      "\n",
      "|||||||||||||||||||||||||||||||| PLAY STORE DATA SET: ENGLISH APPS |||||||||||||||||||||||||||||||||\n",
      "\n",
      "['Photo Editor & Candy Camera & Grid & ScrapBook', 'ART_AND_DESIGN', '4.1', '159', '19M', '10,000+', 'Free', '0', 'Everyone', 'Art & Design', 'January 7, 2018', '1.0.0', '4.0.3 and up']\n",
      "\n",
      "\n",
      "['Coloring book moana', 'ART_AND_DESIGN', '3.9', '967', '14M', '500,000+', 'Free', '0', 'Everyone', 'Art & Design;Pretend Play', 'January 15, 2018', '2.0.0', '4.0.3 and up']\n",
      "\n",
      "\n",
      "['U Launcher Lite – FREE Live Cool Themes, Hide Apps', 'ART_AND_DESIGN', '4.7', '87510', '8.7M', '5,000,000+', 'Free', '0', 'Everyone', 'Art & Design', 'August 1, 2018', '1.2.4', '4.0.3 and up']\n",
      "\n",
      "\n",
      "Number of rows: 9614\n",
      "Number of columns 13\n",
      "^^^^^^^^^^^^^^^^^^^^^^^^^^^^^^^^^^^^^^^ PLAY STORE DATA SET ^^^^^^^^^^^^^^^^^^^^^^^^^^^^^^^^^^^^^^^^\n",
      "\n"
     ]
    }
   ],
   "source": [
    "print('\\n{:|^100}\\n'.format(' PLAY STORE DATA SET: ENGLISH APPS '))\n",
    "explore_data(play_store_english, 0, 3, True)\n",
    "print('{:^^100}\\n'.format(' PLAY STORE DATA SET '))"
   ]
  },
  {
   "cell_type": "code",
   "execution_count": 28,
   "metadata": {},
   "outputs": [
    {
     "name": "stdout",
     "output_type": "stream",
     "text": [
      "\n",
      "||||||||||||||||||||||||||||||| APP STORE DATA SET: NON-ENGLISH APPS |||||||||||||||||||||||||||||||\n",
      "\n",
      "['299853944', '新浪新闻-阅读最新时事热门头条资讯视频', '115143680', 'USD', '0', '2229', '4', '3.5', '1', '6.2.1', '17+', 'News', '37', '0', '1', '1']\n",
      "\n",
      "\n",
      "['303191318', '同花顺-炒股、股票', '122886144', 'USD', '0', '1744', '0', '3.5', '0', '10.10.46', '4+', 'Finance', '37', '0', '1', '1']\n",
      "\n",
      "\n",
      "['331259725', '央视影音-海量央视内容高清直播', '54648832', 'USD', '0', '2070', '0', '2.5', '0', '6.2.0', '4+', 'Sports', '37', '0', '1', '1']\n",
      "\n",
      "\n",
      "Number of rows: 1014\n",
      "Number of columns 16\n",
      "^^^^^^^^^^^^^^^^^^^^^^^^^^^^^^^^^^^^^^^^ APP STORE DATA SET ^^^^^^^^^^^^^^^^^^^^^^^^^^^^^^^^^^^^^^^^\n",
      "\n"
     ]
    }
   ],
   "source": [
    "print('\\n{:|^100}\\n'.format(' APP STORE DATA SET: NON-ENGLISH APPS '))\n",
    "explore_data(app_store_non_english, 0, 3, True)\n",
    "print('{:^^100}\\n'.format(' APP STORE DATA SET '))"
   ]
  },
  {
   "cell_type": "code",
   "execution_count": 29,
   "metadata": {},
   "outputs": [
    {
     "name": "stdout",
     "output_type": "stream",
     "text": [
      "\n",
      "|||||||||||||||||||||||||||||| PLAY STORE DATA SET: NON-ENGLISH APPS |||||||||||||||||||||||||||||||\n",
      "\n",
      "['Flame - درب عقلك يوميا', 'EDUCATION', '4.6', '56065', '37M', '1,000,000+', 'Free', '0', 'Everyone', 'Education', 'July 26, 2018', '3.3', '4.1 and up']\n",
      "\n",
      "\n",
      "['သိင်္ Astrology - Min Thein Kha BayDin', 'LIFESTYLE', '4.7', '2225', '15M', '100,000+', 'Free', '0', 'Everyone', 'Lifestyle', 'July 26, 2018', '4.2.1', '4.0.3 and up']\n",
      "\n",
      "\n",
      "['РИА Новости', 'NEWS_AND_MAGAZINES', '4.5', '44274', '8.0M', '1,000,000+', 'Free', '0', 'Everyone', 'News & Magazines', 'August 6, 2018', '4.0.6', '4.4 and up']\n",
      "\n",
      "\n",
      "Number of rows: 45\n",
      "Number of columns 13\n",
      "^^^^^^^^^^^^^^^^^^^^^^^^^^^^^^^^^^^^^^^ PLAY STORE DATA SET ^^^^^^^^^^^^^^^^^^^^^^^^^^^^^^^^^^^^^^^^\n",
      "\n"
     ]
    }
   ],
   "source": [
    "print('\\n{:|^100}\\n'.format(' PLAY STORE DATA SET: NON-ENGLISH APPS '))\n",
    "explore_data(play_store_non_english, 0, 3, True)\n",
    "print('{:^^100}\\n'.format(' PLAY STORE DATA SET '))"
   ]
  },
  {
   "cell_type": "markdown",
   "metadata": {},
   "source": [
    "Using the rationale above we're able to remove non-English apps from both data sets. Howewer we may ask about the magical number 3 we used to allow non-English characters. To address this issue the function `is_English()` was applied with allowed non-English characters ranging from 0 to 10 (see Table 3)\n",
    "\n",
    "**Table 3**. Number of apps with names in English in both stores. Different numbers of allowed non-English characters were tested.\n",
    "\n",
    "|non-English character| App Store | Play Store | \n",
    "|:-------------------:|:---------:|-----------:|\n",
    "| 0                   | 5707      | 9117       |\n",
    "| 1                   | 6100      | 9523       |\n",
    "| 2                   | 6155      | 9597       |\n",
    "| **3**               | **6183**  | **9614**   | \n",
    "| 4                   | 6240      | 9619       |\n",
    "| 5                   | 6281      | 9629       |\n",
    "| 6                   | 6320      | 9632       |\n",
    "| 7                   | 6354      | 9635       |\n",
    "| 8                   | 6400      | 9637       |\n",
    "| 9                   | 6644      | 9640       |\n",
    "| 10                  | 6494      | 9643       |"
   ]
  },
  {
   "cell_type": "markdown",
   "metadata": {},
   "source": [
    "For the sake of clarity, the data presented in **Table 3** were ploted below using Matlibplot for both store. While the number of apps continues to increase slowly for the App Store, for the Play Store it reaches a plateau when the maximum number of non-English characters allowed was set to 3. So, 3 seems a reasonable choice considering the cost-benefit ratio. \n",
    "\n",
    "The previous called \"magical number\" 3, used as a criterion of allowed non-English characters in the app names, is not that magical as we can see from the two plots below!"
   ]
  },
  {
   "cell_type": "code",
   "execution_count": 69,
   "metadata": {},
   "outputs": [
    {
     "data": {
      "image/png": "[encoded data removed]",
      "text/plain": [
       "<Figure size 432x288 with 1 Axes>"
      ]
     },
     "metadata": {
      "needs_background": "light"
     },
     "output_type": "display_data"
    },
    {
     "name": "stdout",
     "output_type": "stream",
     "text": [
      "\u001b[1m Figure 1 \u001b[0m. Number of English apps versus the number of allowed non-English characters for the App Store.\n"
     ]
    }
   ],
   "source": [
    "import matplotlib.pyplot as plt\n",
    "\n",
    "x = [0, 1, 2, 3, 4, 5, 6, 7, 8, 9, 10]\n",
    "y1 = [5707, 6100, 6155, 6183, 6240, 6281, 6320, 6354, 6400, 6444, 6494]   # App Store data from Table 3\n",
    "y2 = [9177, 9523, 9597, 9614, 9619, 9629, 9632, 9635, 9637, 9640, 9643]   # Play Store data from Table 3\n",
    "\n",
    "plt.plot(x, y1, '-ok', color='blue', markersize=10, markerfacecolor='white', markeredgewidth=2, linewidth=3)\n",
    "plt.ylim(5600, 6600)\n",
    "plt.ylabel('number of apps', fontsize=15)\n",
    "plt.xlabel('number of allowed non-English characters', fontsize=15)\n",
    "plt.title('App Store', fontsize=25, color='blue')\n",
    "plt.annotate('chosen value: 3', fontsize=15, xy=(3.1, 6160), xytext=(4, 5850), arrowprops=dict(facecolor='black', shrink=0.05))\n",
    "plt.show()\n",
    "print('\\033[1m Figure 1 \\033[0m. Number of English apps versus the number of allowed non-English characters for the App Store.')"
   ]
  },
  {
   "cell_type": "code",
   "execution_count": 31,
   "metadata": {},
   "outputs": [
    {
     "data": {
      "image/png": "[encoded data removed]",
      "text/plain": [
       "<Figure size 432x288 with 1 Axes>"
      ]
     },
     "metadata": {
      "needs_background": "light"
     },
     "output_type": "display_data"
    },
    {
     "name": "stdout",
     "output_type": "stream",
     "text": [
      "\u001b[1m Figure 2 \u001b[0m. Number of English apps versus the number of allowed non-English characters for the Play Store.\n"
     ]
    }
   ],
   "source": [
    "plt.plot(x, y2, '-ok', color='red', markersize=10, markerfacecolor='white', markeredgewidth=2, linewidth=3)\n",
    "plt.ylim(9100, 9700)\n",
    "plt.ylabel('number of apps', fontsize=15)\n",
    "plt.xlabel('number of allowed non-English characters', fontsize=15)\n",
    "plt.title('Play Store', fontsize=25, color='red')\n",
    "plt.annotate('chosen value: 3', fontsize=15, xy=(3.1, 9590), xytext=(4, 9400), arrowprops=dict(facecolor='black', shrink=0.05))\n",
    "plt.show()\n",
    "print('\\033[1m Figure 2 \\033[0m. Number of English apps versus the number of allowed non-English characters for the Play Store.')"
   ]
  },
  {
   "cell_type": "markdown",
   "metadata": {},
   "source": [
    "### Selecting free apps\n",
    "The last part of our data preparation will be the selection of free apps in both stores. This job is relatively easy as we can see below. We also store paid apps, just in case we need it later.\n"
   ]
  },
  {
   "cell_type": "code",
   "execution_count": 32,
   "metadata": {},
   "outputs": [],
   "source": [
    "app_store_eng_free = []\n",
    "app_store_eng_paid = []\n",
    "\n",
    "for app_price in app_store_english:           # sorting out free & paid apps at App Store\n",
    "    if app_price[4] == '0':\n",
    "        app_store_eng_free.append(app_price)\n",
    "    else:\n",
    "        app_store_eng_paid.append(app_price)\n",
    "\n",
    "play_store_eng_free = []\n",
    "play_store_eng_paid = []\n",
    "\n",
    "for app_price in play_store_english:          # sorting out free & paid apps at Play Store\n",
    "    if app_price[7] == '0':\n",
    "        play_store_eng_free.append(app_price)\n",
    "    else:\n",
    "        play_store_eng_paid.append(app_price)"
   ]
  },
  {
   "cell_type": "code",
   "execution_count": 33,
   "metadata": {},
   "outputs": [
    {
     "name": "stdout",
     "output_type": "stream",
     "text": [
      "\n",
      "||||||||||||||||||||||||||||| APP STORE DATA SET: ENGLISH & FREE APPS ||||||||||||||||||||||||||||||\n",
      "\n",
      "['281796108', 'Evernote - stay organized', '158578688', 'USD', '0', '161065', '26', '4', '3.5', '8.2.2', '4+', 'Productivity', '37', '5', '23', '1']\n",
      "\n",
      "\n",
      "['281940292', 'WeatherBug - Local Weather, Radar, Maps, Alerts', '100524032', 'USD', '0', '188583', '2822', '3.5', '4.5', '5.0.0', '4+', 'Weather', '37', '5', '3', '1']\n",
      "\n",
      "\n",
      "['282614216', 'eBay: Best App to Buy, Sell, Save! Online Shopping', '128512000', 'USD', '0', '262241', '649', '4', '4.5', '5.10.0', '12+', 'Shopping', '37', '5', '9', '1']\n",
      "\n",
      "\n",
      "Number of rows: 3222\n",
      "Number of columns 16\n",
      "^^^^^^^^^^^^^^^^^^^^^^^^^^^^^^^^^^^^^^^^ APP STORE DATA SET ^^^^^^^^^^^^^^^^^^^^^^^^^^^^^^^^^^^^^^^^\n",
      "\n"
     ]
    }
   ],
   "source": [
    "print('\\n{:|^100}\\n'.format(' APP STORE DATA SET: ENGLISH & FREE APPS '))\n",
    "explore_data(app_store_eng_free, 0, 3, True)\n",
    "print('{:^^100}\\n'.format(' APP STORE DATA SET '))"
   ]
  },
  {
   "cell_type": "code",
   "execution_count": 34,
   "metadata": {},
   "outputs": [
    {
     "name": "stdout",
     "output_type": "stream",
     "text": [
      "\n",
      "||||||||||||||||||||||||||||| PLAY STORE DATA SET: ENGLISH & FREE APPS |||||||||||||||||||||||||||||\n",
      "\n",
      "['Photo Editor & Candy Camera & Grid & ScrapBook', 'ART_AND_DESIGN', '4.1', '159', '19M', '10,000+', 'Free', '0', 'Everyone', 'Art & Design', 'January 7, 2018', '1.0.0', '4.0.3 and up']\n",
      "\n",
      "\n",
      "['Coloring book moana', 'ART_AND_DESIGN', '3.9', '967', '14M', '500,000+', 'Free', '0', 'Everyone', 'Art & Design;Pretend Play', 'January 15, 2018', '2.0.0', '4.0.3 and up']\n",
      "\n",
      "\n",
      "['U Launcher Lite – FREE Live Cool Themes, Hide Apps', 'ART_AND_DESIGN', '4.7', '87510', '8.7M', '5,000,000+', 'Free', '0', 'Everyone', 'Art & Design', 'August 1, 2018', '1.2.4', '4.0.3 and up']\n",
      "\n",
      "\n",
      "Number of rows: 8862\n",
      "Number of columns 13\n",
      "^^^^^^^^^^^^^^^^^^^^^^^^^^^^^^^^^^^^^^^ PLAY STORE DATA SET ^^^^^^^^^^^^^^^^^^^^^^^^^^^^^^^^^^^^^^^^\n",
      "\n"
     ]
    }
   ],
   "source": [
    "print('\\n{:|^100}\\n'.format(' PLAY STORE DATA SET: ENGLISH & FREE APPS '))\n",
    "explore_data(play_store_eng_free, 0, 3, True)\n",
    "print('{:^^100}\\n'.format(' PLAY STORE DATA SET '))"
   ]
  },
  {
   "cell_type": "code",
   "execution_count": 35,
   "metadata": {},
   "outputs": [
    {
     "name": "stdout",
     "output_type": "stream",
     "text": [
      "\n",
      "||||||||||||||||||||||||||||| APP STORE DATA SET: ENGLISH & PAID APPS ||||||||||||||||||||||||||||||\n",
      "\n",
      "['281656475', 'PAC-MAN Premium', '100788224', 'USD', '3.99', '21292', '26', '4', '4.5', '6.3.5', '4+', 'Games', '38', '5', '10', '1']\n",
      "\n",
      "\n",
      "['283619399', 'Shanghai Mahjong', '10485713', 'USD', '0.99', '8253', '5516', '4', '4', '1.8', '4+', 'Games', '47', '5', '1', '1']\n",
      "\n",
      "\n",
      "['284666222', 'PCalc - The Best Calculator', '49250304', 'USD', '9.99', '1117', '4', '4.5', '5', '3.6.6', '4+', 'Utilities', '37', '5', '1', '1']\n",
      "\n",
      "\n",
      "Number of rows: 2961\n",
      "Number of columns 16\n",
      "^^^^^^^^^^^^^^^^^^^^^^^^^^^^^^^^^^^^^^^^ APP STORE DATA SET ^^^^^^^^^^^^^^^^^^^^^^^^^^^^^^^^^^^^^^^^\n",
      "\n"
     ]
    }
   ],
   "source": [
    "print('\\n{:|^100}\\n'.format(' APP STORE DATA SET: ENGLISH & PAID APPS '))\n",
    "explore_data(app_store_eng_paid, 0, 3, True)\n",
    "print('{:^^100}\\n'.format(' APP STORE DATA SET '))"
   ]
  },
  {
   "cell_type": "code",
   "execution_count": 36,
   "metadata": {},
   "outputs": [
    {
     "name": "stdout",
     "output_type": "stream",
     "text": [
      "\n",
      "||||||||||||||||||||||||||||| PLAY STORE DATA SET: ENGLISH & PAID APPS |||||||||||||||||||||||||||||\n",
      "\n",
      "['TurboScan: scan documents and receipts in PDF', 'BUSINESS', '4.7', '11442', '6.8M', '100,000+', 'Paid', '$4.99', 'Everyone', 'Business', 'March 25, 2018', '1.5.2', '4.0 and up']\n",
      "\n",
      "\n",
      "['Tiny Scanner Pro: PDF Doc Scan', 'BUSINESS', '4.8', '10295', '39M', '100,000+', 'Paid', '$4.99', 'Everyone', 'Business', 'April 11, 2017', '3.4.6', '3.0 and up']\n",
      "\n",
      "\n",
      "['Puffin Browser Pro', 'COMMUNICATION', '4.0', '18247', 'Varies with device', '100,000+', 'Paid', '$3.99', 'Everyone', 'Communication', 'July 5, 2018', '7.5.3.20547', '4.1 and up']\n",
      "\n",
      "\n",
      "Number of rows: 752\n",
      "Number of columns 13\n",
      "^^^^^^^^^^^^^^^^^^^^^^^^^^^^^^^^^^^^^^^ PLAY STORE DATA SET ^^^^^^^^^^^^^^^^^^^^^^^^^^^^^^^^^^^^^^^^\n",
      "\n"
     ]
    }
   ],
   "source": [
    "print('\\n{:|^100}\\n'.format(' PLAY STORE DATA SET: ENGLISH & PAID APPS '))\n",
    "explore_data(play_store_eng_paid, 0, 3, True)\n",
    "print('{:^^100}\\n'.format(' PLAY STORE DATA SET '))"
   ]
  },
  {
   "cell_type": "markdown",
   "metadata": {},
   "source": [
    "To sum up, we finished the preparation step and now our data sets are ready to be used, and what we have done so far, is summarized in **Flowchart 1**.\n",
    "\n",
    "![](flowchart_60perc.jpg)\n",
    "**Flowchart 1.** What we have done so far: the cleasing data protocol."
   ]
  },
  {
   "cell_type": "markdown",
   "metadata": {},
   "source": [
    "Before moving forward, there is an interesting finding about our data sets. Even though we are interested in free apps, it's worth comparing paid and free apps. As we can see from **Figure 3**, while the Play Store is made up of about 92% of free apps, the App Store has about 52% of free apps."
   ]
  },
  {
   "cell_type": "code",
   "execution_count": 37,
   "metadata": {},
   "outputs": [],
   "source": [
    "import matplotlib\n",
    "#import matplotlib.pyplot as plt\n",
    "import numpy as np"
   ]
  },
  {
   "cell_type": "code",
   "execution_count": 38,
   "metadata": {},
   "outputs": [
    {
     "data": {
      "image/png": "[encoded data removed]",
      "text/plain": [
       "<Figure size 432x288 with 1 Axes>"
      ]
     },
     "metadata": {
      "needs_background": "light"
     },
     "output_type": "display_data"
    },
    {
     "name": "stdout",
     "output_type": "stream",
     "text": [
      "\u001b[1m Figure 3 \u001b[0m. Free versus paid apps: a comparison between App Store and Play Store.\n",
      "\n"
     ]
    }
   ],
   "source": [
    "# store = ['App Store free', 'App Store paid', 'Play Store free', 'Play Store paid']\n",
    "store = ['free', 'paid', 'free', 'paid']\n",
    "index = np.arange(len(store))        #  a numpy methot that generates an array of sequential numbers\n",
    "apps = [3222, 2961, 8862, 752]\n",
    "\n",
    "\n",
    "plt.bar(index, apps, color=('green','red','green','red'), align='center', width=1.0)\n",
    "plt.xlabel('cost', fontsize=18)\n",
    "plt.ylabel('number of apps', fontsize=18)\n",
    "plt.xticks(index, store, fontsize=14, rotation=0)\n",
    "plt.yticks(fontsize=14)\n",
    "plt.ylim(0, 12000)\n",
    "plt.title('Free x Paid Apps', fontsize=25)\n",
    "plt.annotate('App Store', fontsize=20, xy=(0.0, 4000))\n",
    "plt.annotate('Play Store', fontsize=20, xy=(2.0, 10000))\n",
    "plt.show()\n",
    "print('\\033[1m Figure 3 \\033[0m. Free versus paid apps: a comparison between App Store and Play Store.\\n')  # using unicode for bold"
   ]
  },
  {
   "cell_type": "markdown",
   "metadata": {},
   "source": [
    "## Data analysis\n",
    "\n",
    "At this point, we can resume the main focus of this project that is trying to understand what type of apps will probably attract more users, which will directly influence the company revenue. \n",
    "\n",
    "To keep risks and overhead minimal, the validation strategy adopted for an app idea consists of three steps:\n",
    "* Build a minimal Android version of the app, and add it to Play Store;\n",
    "* If the app has a good response from users, we develop it further;\n",
    "* If the app is profitable after six months, we build an iOS version of the app and add it to the App Store.\n",
    "\n",
    "Because our main goal is to add the app on both stores, we need to find app profiles that are successful in both markets. For instance, a profile that works well for both markets might be a productivity app that makes use of gamification. [Gamification](https://www.bunchball.com/gamification) \"is the process of taking something that already exists – a website, an enterprise application, an online community – and integrating game mechanics into it to motivate participation, engagement, and loyalty. Gamification takes the data-driven techniques that game designers use to engage players, and applies them to non-game experiences to motivate actions that add value to your business.\"\n",
    "\n",
    "So, we can start by answering the following question: **what are the most common genres for each market?**"
   ]
  },
  {
   "cell_type": "markdown",
   "metadata": {},
   "source": [
    "### Most common apps by genre on App Store and Play Store"
   ]
  },
  {
   "cell_type": "code",
   "execution_count": 39,
   "metadata": {},
   "outputs": [],
   "source": [
    "def frequency_table(data_set, column_index):\n",
    "    \"\"\"\n",
    "    Take in as input the data set and the index of a column associated to the desired feature \n",
    "    and generate the respective frequency table in percentages\n",
    "    \n",
    "    : data_set, expected to be a list of lists\n",
    "    : column_index, expected to be an integer\n",
    "    \"\"\"\n",
    "    frequency_table = {}\n",
    "    count = 0\n",
    "    \n",
    "    for row in data_set:\n",
    "        count += 1\n",
    "        app_feature = row[column_index]\n",
    "        if app_feature in frequency_table:\n",
    "            frequency_table[app_feature] += 1\n",
    "        else:\n",
    "            frequency_table[app_feature] = 1\n",
    "            \n",
    "    percent_table = {}\n",
    "    for key in frequency_table:\n",
    "        percentage = (frequency_table[key] / count) * 100\n",
    "        percent_table[key] = percentage\n",
    "        \n",
    "    return percent_table"
   ]
  },
  {
   "cell_type": "code",
   "execution_count": 40,
   "metadata": {},
   "outputs": [],
   "source": [
    "def frequency_table_Sorted(data_set, column_index):\n",
    "    \"\"\"\n",
    "    Take in as input the data set and the index of a column associated to the desired feature \n",
    "    and generate the respective frequency table in percentages that are then sorted in ascending \n",
    "    order.\n",
    "    \n",
    "    : data_set, expected to be a list of lists\n",
    "    : column_index, expected to be an integer\n",
    "    \"\"\"\n",
    "    table = frequency_table(data_set, column_index)\n",
    "    table_display = []\n",
    "    ordered_table_dict = {}\n",
    "    inv_ordered_table_dict = {}\n",
    "\n",
    "    for key in table:\n",
    "        key_val_as_tuple = (table[key], key)\n",
    "        table_display.append(key_val_as_tuple)\n",
    "#    ordered_table = sorted(table_display, reverse=True)  # the results are printed in descending order\n",
    "    ordered_table = sorted(table_display)                 # the results are printed in ascending order\n",
    "    ordered_table_dict = dict(ordered_table)              # transform into a dictionary: to plot a graph with matlibplot\n",
    "    inv_ordered_table_dict = {v: k for k, v in ordered_table_dict.items()}  # invert dictionary key and value \n",
    "#    return ordered_table\n",
    "    return inv_ordered_table_dict\n",
    "       "
   ]
  },
  {
   "cell_type": "code",
   "execution_count": 41,
   "metadata": {},
   "outputs": [
    {
     "data": {
      "text/plain": [
       "{'Catalogs': 0.12414649286157665,\n",
       " 'Navigation': 0.186219739292365,\n",
       " 'Book': 0.4345127250155183,\n",
       " 'Business': 0.5276225946617008,\n",
       " 'Reference': 0.5586592178770949,\n",
       " 'Food & Drink': 0.8069522036002483,\n",
       " 'Weather': 0.8690254500310366,\n",
       " 'Finance': 1.1173184357541899,\n",
       " 'Travel': 1.2414649286157666,\n",
       " 'News': 1.3345747982619491,\n",
       " 'Lifestyle': 1.5828677839851024,\n",
       " 'Productivity': 1.7380509000620732,\n",
       " 'Health & Fitness': 2.0173805090006205,\n",
       " 'Music': 2.0484171322160147,\n",
       " 'Sports': 2.1415270018621975,\n",
       " 'Utilities': 2.5139664804469275,\n",
       " 'Shopping': 2.60707635009311,\n",
       " 'Social Networking': 3.2898820608317814,\n",
       " 'Education': 3.662321539416512,\n",
       " 'Photo & Video': 4.9658597144630665,\n",
       " 'Entertainment': 7.883302296710118,\n",
       " 'Games': 58.16263190564867}"
      ]
     },
     "execution_count": 41,
     "metadata": {},
     "output_type": "execute_result"
    }
   ],
   "source": [
    "freq_tab_sorted = frequency_table_Sorted(data_set = app_store_eng_free, column_index = 11)\n",
    "freq_tab_sorted"
   ]
  },
  {
   "cell_type": "code",
   "execution_count": 42,
   "metadata": {},
   "outputs": [
    {
     "data": {
      "text/plain": [
       "{'BEAUTY': 0.598059128864816,\n",
       " 'COMICS': 0.6206273978785828,\n",
       " 'PARENTING': 0.6544798013992327,\n",
       " 'ART_AND_DESIGN': 0.6770480704129994,\n",
       " 'EVENTS': 0.7109004739336493,\n",
       " 'WEATHER': 0.8011735499887158,\n",
       " 'HOUSE_AND_HOME': 0.8350259535093659,\n",
       " 'AUTO_AND_VEHICLES': 0.9252990295644324,\n",
       " 'LIBRARIES_AND_DEMO': 0.9365831640713158,\n",
       " 'ENTERTAINMENT': 1.128413450688332,\n",
       " 'FOOD_AND_DRINK': 1.2412547957571656,\n",
       " 'EDUCATION': 1.2863913337846988,\n",
       " 'MAPS_AND_NAVIGATION': 1.399232678853532,\n",
       " 'VIDEO_PLAYERS': 1.782893252087565,\n",
       " 'DATING': 1.8618821936357481,\n",
       " 'BOOKS_AND_REFERENCE': 2.143985556307831,\n",
       " 'SHOPPING': 2.2455427668697814,\n",
       " 'TRAVEL_AND_LOCAL': 2.335815842924848,\n",
       " 'SOCIAL': 2.663055743624464,\n",
       " 'NEWS_AND_MAGAZINES': 2.798465357707064,\n",
       " 'PHOTOGRAPHY': 2.945159106296547,\n",
       " 'HEALTH_AND_FITNESS': 3.080568720379147,\n",
       " 'COMMUNICATION': 3.238546603475513,\n",
       " 'PERSONALIZATION': 3.3175355450236967,\n",
       " 'SPORTS': 3.39652448657188,\n",
       " 'MEDICAL': 3.5206499661475967,\n",
       " 'FINANCE': 3.7011961182577298,\n",
       " 'PRODUCTIVITY': 3.8930264048747465,\n",
       " 'LIFESTYLE': 3.9043105393816293,\n",
       " 'BUSINESS': 4.5926427443015125,\n",
       " 'TOOLS': 8.440532611148726,\n",
       " 'GAME': 9.873617693522906,\n",
       " 'FAMILY': 18.449559918754233}"
      ]
     },
     "execution_count": 42,
     "metadata": {},
     "output_type": "execute_result"
    }
   ],
   "source": [
    "freq_tab_sorted = frequency_table_Sorted(data_set = play_store_eng_free, column_index = 1)\n",
    "freq_tab_sorted"
   ]
  },
  {
   "cell_type": "code",
   "execution_count": 43,
   "metadata": {},
   "outputs": [
    {
     "data": {
      "text/plain": [
       "{'Video Players & Editors;Creativity': 0.011284134506883321,\n",
       " 'Video Players & Editors;Music & Video': 0.022568269013766643,\n",
       " 'Role Playing;Action & Adventure': 0.033852403520649964,\n",
       " 'Role Playing;Pretend Play': 0.045136538027533285,\n",
       " 'Education;Pretend Play': 0.056420672534416606,\n",
       " 'Parenting;Music & Video': 0.06770480704129993,\n",
       " 'Simulation;Action & Adventure': 0.07898894154818326,\n",
       " 'Educational;Pretend Play': 0.09027307605506657,\n",
       " 'Action;Action & Adventure': 0.1015572105619499,\n",
       " 'Arcade;Action & Adventure': 0.12412547957571654,\n",
       " 'Casual;Brain Games': 0.13540961408259986,\n",
       " 'Racing;Action & Adventure': 0.16926201760324985,\n",
       " 'Music': 0.2031144211238998,\n",
       " 'Casual;Pretend Play': 0.23696682464454977,\n",
       " 'Word': 0.2595350936583164,\n",
       " 'Education;Education': 0.3385240352064997,\n",
       " 'Educational': 0.3723764387271496,\n",
       " 'Educational;Education': 0.3949447077409162,\n",
       " 'Trivia': 0.41751297675468296,\n",
       " 'Casino': 0.4287971112615662,\n",
       " 'Card': 0.45136538027533285,\n",
       " 'Parenting': 0.49650191830286616,\n",
       " 'Beauty': 0.598059128864816,\n",
       " 'Comics': 0.6093432633716994,\n",
       " 'Adventure': 0.6770480704129994,\n",
       " 'Events': 0.7109004739336493,\n",
       " 'Weather': 0.8011735499887158,\n",
       " 'House & Home': 0.8350259535093659,\n",
       " 'Strategy': 0.9140148950575491,\n",
       " 'Auto & Vehicles': 0.9252990295644324,\n",
       " 'Role Playing': 0.9365831640713158,\n",
       " 'Racing': 0.9930038366057323,\n",
       " 'Puzzle': 1.128413450688332,\n",
       " 'Food & Drink': 1.2412547957571656,\n",
       " 'Maps & Navigation': 1.399232678853532,\n",
       " 'Casual': 1.7603249830737984,\n",
       " 'Video Players & Editors': 1.7716091175806816,\n",
       " 'Arcade': 1.8505980591288649,\n",
       " 'Dating': 1.8618821936357481,\n",
       " 'Simulation': 2.0424283457458814,\n",
       " 'Books & Reference': 2.143985556307831,\n",
       " 'Shopping': 2.2455427668697814,\n",
       " 'Travel & Local': 2.324531708417964,\n",
       " 'Social': 2.663055743624464,\n",
       " 'News & Magazines': 2.798465357707064,\n",
       " 'Photography': 2.945159106296547,\n",
       " 'Health & Fitness': 3.080568720379147,\n",
       " 'Action': 3.1031369893929135,\n",
       " 'Communication': 3.238546603475513,\n",
       " 'Personalization': 3.3175355450236967,\n",
       " 'Sports': 3.4642292936131795,\n",
       " 'Medical': 3.5206499661475967,\n",
       " 'Finance': 3.7011961182577298,\n",
       " 'Productivity': 3.8930264048747465,\n",
       " 'Business': 4.5926427443015125,\n",
       " 'Education': 5.348679756262695,\n",
       " 'Entertainment': 6.070864364703228,\n",
       " 'Tools': 8.429248476641842}"
      ]
     },
     "execution_count": 43,
     "metadata": {},
     "output_type": "execute_result"
    }
   ],
   "source": [
    "freq_tab_sorted = frequency_table_Sorted(data_set = play_store_eng_free, column_index = 9)\n",
    "freq_tab_sorted"
   ]
  },
  {
   "cell_type": "code",
   "execution_count": 44,
   "metadata": {},
   "outputs": [
    {
     "data": {
      "image/png": "[encoded data removed]",
      "text/plain": [
       "<Figure size 1080x864 with 1 Axes>"
      ]
     },
     "metadata": {
      "needs_background": "light"
     },
     "output_type": "display_data"
    },
    {
     "name": "stdout",
     "output_type": "stream",
     "text": [
      "\u001b[1m Figure 4 \u001b[0m. Most common genres at the App Store.\n",
      "\n"
     ]
    }
   ],
   "source": [
    "# App Store: column index = 11 => 'prime-genre' feature\n",
    "# Play Store: column index = 1 => 'Category' feature; column index = 9 =>  'Genres'feature\n",
    "\n",
    "freq_tab_app_store = frequency_table_Sorted(data_set = app_store_eng_free, column_index = 11)\n",
    "\n",
    "index = np.arange(len(freq_tab_app_store))        #  a numpy methot that generates an array of sequential numbers\n",
    "width = 0.9\n",
    "bar_width = 1.0\n",
    "plt.figure(figsize=(15, 12))\n",
    "plt.barh(index, \n",
    "        freq_tab_app_store.values(), \n",
    "        width, \n",
    "        bar_width, \n",
    "        align='center',\n",
    "        color='skyblue')\n",
    "plt.ylabel('most common genres', fontsize=15, labelpad=20, weight='bold', size=18)\n",
    "plt.xlabel('frequency / %', fontsize=15, labelpad=20, weight='bold', size=18)\n",
    "plt.yticks(index, freq_tab_app_store.keys(), fontsize=14, rotation=0)\n",
    "plt.tick_params(axis='y', which='major', pad=5)\n",
    "plt.title(\"APP STORE: feature 'prime_genre'\", fontsize=25)\n",
    "plt.show()\n",
    "print('\\033[1m Figure 4 \\033[0m. Most common genres at the App Store.\\n')  # using unicode for bold"
   ]
  },
  {
   "cell_type": "code",
   "execution_count": 45,
   "metadata": {},
   "outputs": [
    {
     "data": {
      "image/png": "[encoded data removed]",
      "text/plain": [
       "<Figure size 1080x864 with 1 Axes>"
      ]
     },
     "metadata": {
      "needs_background": "light"
     },
     "output_type": "display_data"
    },
    {
     "name": "stdout",
     "output_type": "stream",
     "text": [
      "\u001b[1m Figure 5 \u001b[0m. Most common genres at the Play Store by 'Category'.\n",
      "\n"
     ]
    }
   ],
   "source": [
    "freq_tab_play_store = frequency_table_Sorted(data_set = play_store_eng_free, column_index = 1)\n",
    "\n",
    "index = np.arange(0, len(freq_tab_play_store), 1)        #  a numpy methot that generates an array of sequential numbers\n",
    "width = 0.9\n",
    "bar_width = 1.0\n",
    "\n",
    "plt.figure(figsize=(15, 12))\n",
    "plt.barh(index, \n",
    "        freq_tab_play_store.values(), \n",
    "        width, \n",
    "        bar_width, \n",
    "        align='center',\n",
    "        color='skyblue')\n",
    "\n",
    "plt.ylabel('most common genres', fontsize=15, labelpad=20, weight='bold', size=18)\n",
    "plt.xlabel('frequency / %', fontsize=15, labelpad=20, weight='bold', size=18)\n",
    "plt.yticks(index, freq_tab_play_store.keys(), fontsize=12, rotation=0)\n",
    "plt.tick_params(axis='y', which='major', pad=5)\n",
    "# plt.tick_params(axis=\"both\", which=\"both\", bottom=\"off\", top=\"off\", labelbottom=\"on\", left=\"off\", right=\"off\", labelleft=\"on\")\n",
    "plt.title(\"'PLAY STORE: feature 'Category'\", fontsize=25)\n",
    "plt.show()\n",
    "print(\"\\033[1m Figure 5 \\033[0m. Most common genres at the Play Store by 'Category'.\\n\")  # using unicode for bold"
   ]
  },
  {
   "cell_type": "code",
   "execution_count": 46,
   "metadata": {},
   "outputs": [
    {
     "data": {
      "image/png": "[encoded data removed]",
      "text/plain": [
       "<Figure size 1080x1440 with 1 Axes>"
      ]
     },
     "metadata": {
      "needs_background": "light"
     },
     "output_type": "display_data"
    },
    {
     "name": "stdout",
     "output_type": "stream",
     "text": [
      "\u001b[1m Figure 6 \u001b[0m. Most common genres at the Play Store by 'Genres'.\n",
      "\n"
     ]
    }
   ],
   "source": [
    "freq_tab_play_store = frequency_table_Sorted(data_set = play_store_eng_free, column_index = 9)\n",
    "\n",
    "index = np.arange(0, len(freq_tab_play_store), 1)        #  a numpy methot that generates an array of sequential numbers\n",
    "width = 0.9\n",
    "bar_width = 1.0\n",
    "\n",
    "plt.figure(figsize=(15, 20))\n",
    "plt.barh(index, \n",
    "        freq_tab_play_store.values(), \n",
    "        width, \n",
    "        bar_width, \n",
    "        align='center',\n",
    "        color='skyblue')\n",
    "\n",
    "plt.ylabel('most common genres', fontsize=15, labelpad=20, weight='bold', size=18)\n",
    "plt.xlabel('frequency / %', fontsize=15, labelpad=20, weight='bold', size=18)\n",
    "plt.yticks(index, freq_tab_play_store.keys(), fontsize=12, rotation=0)\n",
    "plt.tick_params(axis='y', which='major', pad=5)\n",
    "# plt.tick_params(axis=\"both\", which=\"both\", bottom=\"off\", top=\"off\", labelbottom=\"on\", left=\"off\", right=\"off\", labelleft=\"on\")\n",
    "plt.title(\"'PLAY STORE: feature 'Genres'\", fontsize=25)\n",
    "plt.show()\n",
    "print(\"\\033[1m Figure 6 \\033[0m. Most common genres at the Play Store by 'Genres'.\\n\")  # using unicode for bold"
   ]
  },
  {
   "cell_type": "markdown",
   "metadata": {},
   "source": [
    "Games correspond to 58.2% of the English free apps at App Store (**Figure 4**), followed by entertainment (7.9%), photo and video (5.0%), education (3.7%), social networking (3.3%), and so on. From these numbers, it seems that App Store focuses mainly on entertainment apps (games, photo, and video, social networking, sports, music, etc) compared to more practical apps (education, shopping, utilities, productivity, etc). \n",
    "\n",
    "Family apps correspond to 18.4% of the English free apps at Play Store (**Figure 5**), followed by games (9.9%), tools (8.4%), business (4.6%), lifestyle (3.9%), and so on. It looks like that Play Store has a more uniform portfolio of free English apps without focusing on a specific category.\n",
    "\n",
    "Although the feature 'Genres' (**Figure 6**) is more detailed than 'Category' (**Figure 5**), it doesn't help much. \n",
    "\n",
    "This gives us an overview of the most common app's genres in both stores. But, does the category with the most apps also have the most users? What genres are the most popular? What are the trends behind these numbers?"
   ]
  },
  {
   "cell_type": "markdown",
   "metadata": {},
   "source": [
    "### Most popular apps by genre on App Store\n",
    "\n",
    "We can obtain the most popular apps by genre (those who have the most users) calculating the average number of installs for each app genre. For the App Store data set, this information in the 'Installs' column. However, since it's missing for the App Store data set, we'll use the total number of user ratings instead, located in the 'rating_count_tot app' column."
   ]
  },
  {
   "cell_type": "code",
   "execution_count": 47,
   "metadata": {},
   "outputs": [],
   "source": [
    "# App Store: column index = 5 => 'rating_count_tot' feature; column index = 11 => 'prime_genre' feature\n",
    "\n",
    "genres_app_store = frequency_table(data_set =  app_store_eng_free, column_index = 11)\n",
    "\n",
    "dict_genre = {}\n",
    "tabb =[]\n",
    "for genre in genres_app_store:\n",
    "    count = 0                       # stores the number of ratings for each genre\n",
    "    len_genre = 0                   # stores the number of apps for each genre\n",
    "    for app in app_store_eng_free:  # loop over App Store data set\n",
    "        genre_app = app[11]\n",
    "        if genre_app == genre:       \n",
    "            n_ratings = float(app[5])  # number of user ratings\n",
    "            count += n_ratings\n",
    "            len_genre += 1\n",
    "    avg_n_ratings = count / len_genre\n",
    "    dict_genre[genre] = avg_n_ratings\n",
    "    tupleware = (dict_genre[genre], genre)\n",
    "    tabb.append(tupleware)\n",
    "    ordered_tabb = sorted(tabb)\n",
    "    ordered_tabb_dict = dict(ordered_tabb)\n",
    "    inv_ordered_tabb_dict = {v: k for k, v in ordered_tabb_dict.items()}\n",
    "#    ordered_table_dict = dict(ordered_table)              # transform into a dictionary: to be plot a graph with matlibplot\n",
    "#    inv_ordered_table_dict = {v: k for k, v in ordered_table_dict.items()}  # invert dictionary key and value \n",
    "    \n",
    "#    print(genre, ':', avg_n_ratings)\n",
    "    "
   ]
  },
  {
   "cell_type": "code",
   "execution_count": 48,
   "metadata": {},
   "outputs": [
    {
     "data": {
      "text/plain": [
       "{'Medical': 612.0,\n",
       " 'Catalogs': 4004.0,\n",
       " 'Education': 7003.983050847458,\n",
       " 'Business': 7491.117647058823,\n",
       " 'Entertainment': 14029.830708661417,\n",
       " 'Lifestyle': 16485.764705882353,\n",
       " 'Utilities': 18684.456790123455,\n",
       " 'Productivity': 21028.410714285714,\n",
       " 'News': 21248.023255813954,\n",
       " 'Games': 22788.6696905016,\n",
       " 'Sports': 23008.898550724636,\n",
       " 'Health & Fitness': 23298.015384615384,\n",
       " 'Shopping': 26919.690476190477,\n",
       " 'Travel': 28243.8,\n",
       " 'Photo & Video': 28441.54375,\n",
       " 'Finance': 31467.944444444445,\n",
       " 'Food & Drink': 33333.92307692308,\n",
       " 'Book': 39758.5,\n",
       " 'Weather': 52279.892857142855,\n",
       " 'Music': 57326.530303030304,\n",
       " 'Social Networking': 71548.34905660378,\n",
       " 'Reference': 74942.11111111111,\n",
       " 'Navigation': 86090.33333333333}"
      ]
     },
     "execution_count": 48,
     "metadata": {},
     "output_type": "execute_result"
    }
   ],
   "source": [
    "inv_ordered_tabb_dict"
   ]
  },
  {
   "cell_type": "code",
   "execution_count": 49,
   "metadata": {},
   "outputs": [
    {
     "data": {
      "image/png": "[encoded data removed]",
      "text/plain": [
       "<Figure size 864x576 with 1 Axes>"
      ]
     },
     "metadata": {
      "needs_background": "light"
     },
     "output_type": "display_data"
    },
    {
     "name": "stdout",
     "output_type": "stream",
     "text": [
      "\u001b[1m Figure 7 \u001b[0m. Average rating numbers for the most popular apps at the App Store.\n",
      "\n"
     ]
    }
   ],
   "source": [
    "index = np.arange(0, len(inv_ordered_tabb_dict), 1)        #  a numpy methot that generates an array of sequential numbers\n",
    "width = 0.9\n",
    "bar_width = 1.0\n",
    "\n",
    "plt.figure(figsize=(12, 8))\n",
    "plt.barh(index, \n",
    "        inv_ordered_tabb_dict.values(), \n",
    "        width, \n",
    "        bar_width, \n",
    "        align='center',\n",
    "        color='skyblue')\n",
    "\n",
    "plt.ylabel('most popular genres', fontsize=14, labelpad=20, weight='bold', size=18)\n",
    "plt.xlabel('average rating number', fontsize=15, labelpad=20, weight='bold', size=18)\n",
    "plt.yticks(index, inv_ordered_tabb_dict.keys(), fontsize=15, rotation=0)\n",
    "plt.xticks(fontsize=15)\n",
    "plt.tick_params(axis='y', which='major', pad=5)\n",
    "plt.xlim(0, 90000)\n",
    "# plt.tick_params(axis=\"both\", which=\"both\", bottom=\"off\", top=\"off\", labelbottom=\"on\", left=\"off\", right=\"off\", labelleft=\"on\")\n",
    "plt.title(\"'APP STORE: feature 'rating_count_tot'\", fontsize=25)\n",
    "plt.show()\n",
    "print('\\033[1m Figure 7 \\033[0m. Average rating numbers for the most popular apps at the App Store.\\n')  # using unicode for bold"
   ]
  },
  {
   "cell_type": "markdown",
   "metadata": {},
   "source": [
    "* The most popular genre is navigation (**Figure 7**). However it's biased by Google Maps and Waze that together add up 499957 user reviews which correspond to 98% of the genre. \n",
    "* The second place is occupied by reference apps, but this position is granted mainly by the Bible and Dictionary.com. \n",
    "* The same is true for social networking apps where Facebook and Pinterest lead.\n",
    "\n",
    "\n",
    "**App profile recommendations**: \n",
    "\n",
    "As discussed before, the App Store focuses on entertainment apps so it seems a good idea to use this innate talent to launch a new app. In addition, online music and video streaming services are an entertainment product that is on the rise. Just to get an idea of the numbers behind the cloud, at the first four days at the Strange Things 3 premiere, a Netflix production, over 40 million households tuned it. Even though Netflix has a lot of titles in its collection, it is well known that it takes longer to find a show than to watch it.  Besides that, its recommendation system also doesn't please all users. This scenario presents a good opportunity that deserves to be explored: \n",
    "* What if you have an easier way to search on the Netflix collection? What if you could interact with other users/friends that watched the show you are interested in to ask about their impressions about the show and later you also could share with them your own impressions? What if you could have easy access to the soundtrack of your loved show in your preferred music streaming service through a link? This app profile seems to be a good recommendation and its integrated search through movie & music and its user-based classification could add value to the final product.\n",
    "\n",
    "Health and fitness category also offer some possibilities: \n",
    "* Congratulations you are a Mum now! And, if it's your first time, you will probably face many challenges. I have seen lots of mothers using *What's up* groups to share information about the different aspects of the development of their children, reviewing/recommending baby products and also sharing specials offers they found on the internet or physical stores. I believe that a well-designed app could do this job much more elegantly and productively! The app could also have included niche targeted news.  Since baby have different stages of development, mothers should also be grouped using this rationale. For example, for the first 24 months of the baby's life, mothers would be grouped by the month of birth (first month, second month, etc). From 24 to the 36 month they could be group by the year of birth.\n",
    "\n",
    "Regarding the apps in the medical category there is a significant absence of them at the App Store what can also be explored. Lets see one simple example:\n",
    "* Nowadays, the most effective method of control of these three viral diseases, [dengue, Zika and chinkungunya](https://www.who.int/neglected_diseases/diseases/en/), is the eradication of the transmitting mosquito. However the transmitter is completely adapted in urban and home environments what favors its spread. The population can and must play a more active role in urban mosquito control. Of course anyone can try to avoid mosquito bytes using insect repellent, long-sleeved shirts and long pants, but I mean here actions like empty and scrub, turn over, cover, or throw out items that hold water, such as tires, buckets, planters, toys, or trash containers inside and outside your home. In this context an app that could take pictures from the mosquito reservoirs, get the GPS coordinates and put all of it in an online map could be of a great help in monitoring these diseases."
   ]
  },
  {
   "cell_type": "code",
   "execution_count": 50,
   "metadata": {},
   "outputs": [
    {
     "name": "stdout",
     "output_type": "stream",
     "text": [
      "Waze - GPS Navigation, Maps & Real-time Traffic_____________  345046\n",
      "Geocaching®_________________________________________________   12811\n",
      "ImmobilienScout24: Real Estate Search in Germany____________     187\n",
      "Railway Route Search________________________________________       5\n",
      "CoPilot GPS – Car Navigation & Offline Maps_________________    3582\n",
      "Google Maps - Navigation & Transit__________________________  154911\n"
     ]
    }
   ],
   "source": [
    "# Navigation => (345046+154911+12811+187+5+3582)/6 = 86090.3333333333\n",
    "for app in app_store_eng_free:\n",
    "    if app[11] == 'Navigation':\n",
    "#        print(app[1], ':', app[5])\n",
    "        print('{:_<60}{:''>8}'.format(app[1], app[5])) "
   ]
  },
  {
   "cell_type": "code",
   "execution_count": 51,
   "metadata": {},
   "outputs": [
    {
     "name": "stdout",
     "output_type": "stream",
     "text": [
      "Showing apps with rates greater that 10k:\n",
      "\n",
      "Bible___________________________________________________________________________  985920\n",
      "Dictionary.com Dictionary & Thesaurus___________________________________________  200047\n",
      "Dictionary.com Dictionary & Thesaurus for iPad__________________________________   54175\n",
      "Muslim Pro: Ramadan 2017 Prayer Times, Azan, Quran______________________________   18418\n",
      "Merriam-Webster Dictionary______________________________________________________   16849\n",
      "Google Translate________________________________________________________________   26786\n",
      "Night Sky_______________________________________________________________________   12122\n",
      "New Furniture Mods - Pocket Wiki & Game Tools for Minecraft PC Edition__________   17588\n"
     ]
    }
   ],
   "source": [
    "print('Showing apps with rates greater that 10k:\\n')\n",
    "for app in app_store_eng_free:\n",
    "    if app[11] == 'Reference':\n",
    "#        print(app[1], ':', app[5]) \n",
    "        if int(app[5]) > 10000:\n",
    "             print('{:_<80}{:''>8}'.format(app[1], app[5])) "
   ]
  },
  {
   "cell_type": "code",
   "execution_count": 52,
   "metadata": {},
   "outputs": [
    {
     "name": "stdout",
     "output_type": "stream",
     "text": [
      "Showing apps with rates greater that 100k:\n",
      "\n",
      "Facebook____________________________________________________ 2974676\n",
      "Skype for iPhone____________________________________________  373519\n",
      "Tumblr______________________________________________________  334293\n",
      "WhatsApp Messenger__________________________________________  287589\n",
      "TextNow - Unlimited Text + Calls____________________________  164963\n",
      "Kik_________________________________________________________  260965\n",
      "Viber Messenger – Text & Call_______________________________  164249\n",
      "ooVoo – Free Video Call, Text and Voice_____________________  177501\n",
      "Pinterest___________________________________________________ 1061624\n",
      "Messenger___________________________________________________  351466\n",
      "Followers - Social Analytics For Instagram__________________  112778\n"
     ]
    }
   ],
   "source": [
    "print('Showing apps with rates greater that 100k:\\n')\n",
    "for app in app_store_eng_free:\n",
    "    if app[11] == 'Social Networking':\n",
    "#        print(app[1], ':', app[5])\n",
    "        if int(app[5]) > 100000: \n",
    "             print('{:_<60}{:''>8}'.format(app[1], app[5])) "
   ]
  },
  {
   "cell_type": "code",
   "execution_count": 53,
   "metadata": {},
   "outputs": [
    {
     "name": "stdout",
     "output_type": "stream",
     "text": [
      "Showing apps with rates greater that 100k:\n",
      "\n",
      "Pandora - Music & Radio_____________________________________ 1126879\n",
      "Shazam - Discover music, artists, videos & lyrics___________  402925\n",
      "iHeartRadio – Free Music & Radio Stations___________________  293228\n",
      "Spotify Music_______________________________________________  878563\n",
      "SoundCloud - Music & Audio__________________________________  135744\n",
      "TuneIn Radio - MLB NBA Audiobooks Podcasts Music____________  110420\n",
      "Magic Piano by Smule________________________________________  131695\n",
      "Smule Sing!_________________________________________________  119316\n",
      "Amazon Music________________________________________________  106235\n"
     ]
    }
   ],
   "source": [
    "print('Showing apps with rates greater that 100k:\\n')\n",
    "for app in app_store_eng_free:\n",
    "    if app[11] == 'Music':\n",
    "#        print(app[1], ':', app[5])\n",
    "        if int(app[5]) > 100000:\n",
    "             print('{:_<60}{:''>8}'.format(app[1], app[5])) "
   ]
  },
  {
   "cell_type": "code",
   "execution_count": 54,
   "metadata": {},
   "outputs": [
    {
     "name": "stdout",
     "output_type": "stream",
     "text": [
      "Lifesum – Inspiring healthy lifestyle app___________________    5795\n",
      "Lose It! – Weight Loss Program and Calorie Counter__________  373835\n",
      "Nike+ Training Club - Workouts & Fitness Plans______________   33969\n",
      "Sleep Cycle alarm clock_____________________________________  104539\n",
      "Period Tracker Lite_________________________________________   53620\n",
      "Weight Watchers_____________________________________________  136833\n",
      "My Cycles Period and Ovulation Tracker______________________    7469\n",
      "Runtastic Running, Jogging and Walking Tracker______________   10298\n",
      "Calorie Counter & Diet Tracker by MyFitnessPal______________  507706\n",
      "Waterlogged - Daily Hydration Tracker_______________________    5000\n",
      "WebMD for iPad______________________________________________    9142\n",
      "Fooducate - Lose Weight, Eat Healthy,Get Motivated__________   11875\n",
      "My Score Plus Weight Loss, Food & Exercise Tracker__________     467\n",
      "VIBO RealMassager___________________________________________       6\n",
      "Fitbit______________________________________________________   90496\n",
      "Headspace___________________________________________________   12819\n",
      "Charity Miles: Walking & Running Distance Tracker___________    3115\n",
      "Sworkit - Custom Workouts for Exercise & Fitness____________   16819\n",
      "Fitstar Personal Trainer____________________________________    7496\n",
      "Garmin Connect™ Mobile______________________________________    8341\n",
      "Smart Alarm Clock : sleep cycle & snoring recorder__________    3779\n",
      "Plant Nanny - Water Reminder with Cute Plants_______________   27421\n",
      "Sleep Meister - Sleep Cycle Alarm Lite______________________     445\n",
      "ameli, l'Assurance Maladie__________________________________       8\n",
      "RUNNING for weight loss: workout & meal plans_______________    6407\n",
      "Walk for a Dog______________________________________________     412\n",
      "Seven - 7 Minute Workout Training Challenge_________________    6808\n",
      "Freeletics Bodyweight - Workouts and Training_______________    1722\n",
      "Clue Period Tracker: Period & Ovulation Tracker_____________   13436\n",
      "Runtastic Six Pack Abs Workout & Core Trainer_______________    4283\n",
      "FizzUp – Online Fitness Trainer_____________________________       5\n",
      "Quick Fit - 7 Minute Workout, Abs, and Yoga_________________     407\n",
      "J&J Official 7 Minute Workout_______________________________    4861\n",
      "8fit - Workouts, meal plans and personal trainer____________    8730\n",
      "Model My Diet - Women - Weight Loss Motivation______________     236\n",
      "SmartFit - Wristband________________________________________     105\n",
      "Record by Under Armour, connects with UA HealthBox__________    7754\n",
      "Runtastic Butt Workout & Booty Trainer Plans________________     222\n",
      "YAZIO – Calorie Counter & Nutrition Tracker_________________     115\n",
      "Crane Connect_______________________________________________      94\n",
      "Walking for Weight Loss: training plans, GPS, tips__________     397\n",
      "My Water Balance: Daily Drink Tracker & Reminder____________    1601\n",
      "Superdrug___________________________________________________       0\n",
      "Dot - A Period & Fertility Tracker__________________________     142\n",
      "Ab & Core Sworkit - Free Workout Trainer____________________    2901\n",
      "2Face Fitpack - Dein Trainingsprogramm mit persönlichem Ernährungsplan, Kalorienrechner und Trainingsplan       0\n",
      "Butt Sworkit - Free Workout Trainer to tone & lift__________     960\n",
      "GYMONDO – Fitness Training für Zuhause______________________       0\n",
      "Snail Sleep-Dream Talk Recording____________________________      19\n",
      "My Challenge Tracker________________________________________    3682\n",
      "Runtastic Results: Workout & Bodyweight Training____________    1718\n",
      "Fitbod Workout Log: Strength Lifting Bodybuilding___________    4668\n",
      "Sweat: Kayla Itsines' Bikini Body Fitness Workouts__________    3788\n",
      "Morning Routine : Daily Habit Tracker_______________________      40\n",
      "SenseSleep - Train Your Brain To Sleep Better_______________      22\n",
      "Life Cycle - Track Your Time Automatically__________________    1760\n",
      "Asana Rebel - Yoga Inspired Fitness_________________________    2459\n",
      "Fit Girls Guide_____________________________________________     397\n",
      "Wellbeyond Meditation for Kids______________________________      36\n",
      "Zen_________________________________________________________     298\n",
      "Simple Habit________________________________________________    2494\n",
      "Dr. Oz______________________________________________________      99\n",
      "airweave sleep analysis_____________________________________       0\n",
      "Intuition Guidances_________________________________________       0\n",
      "Sonia Tlev__________________________________________________       0\n"
     ]
    }
   ],
   "source": [
    "#print('Showing apps with rates greater that 100k:\\n')\n",
    "for app in app_store_eng_free:\n",
    "    if app[11] == 'Health & Fitness':\n",
    "#        print(app[1], ':', app[5])\n",
    "#        if int(app[5]) > 100000:\n",
    "             print('{:_<60}{:''>8}'.format(app[1], app[5])) "
   ]
  },
  {
   "cell_type": "markdown",
   "metadata": {},
   "source": [
    "### Most popular apps by genre on Play Store\n",
    "\n",
    "The Play Store the only available data is the numbers of installs, and the open-ended numbers (100+, 500+, etc) it brings are not precise."
   ]
  },
  {
   "cell_type": "code",
   "execution_count": 55,
   "metadata": {},
   "outputs": [
    {
     "data": {
      "text/plain": [
       "{'0': 0.011284134506883321,\n",
       " '0+': 0.045136538027533285,\n",
       " '1,000,000,000+': 0.22568269013766643,\n",
       " '500,000,000+': 0.2708192281651997,\n",
       " '1+': 0.5077860528097494,\n",
       " '5+': 0.7898894154818324,\n",
       " '50+': 1.9183028661701647,\n",
       " '100,000,000+': 2.1214172872940646,\n",
       " '50,000,000+': 2.279395170390431,\n",
       " '500+': 3.2498307379823967,\n",
       " '10+': 3.5432182351613632,\n",
       " '5,000+': 4.513653802753328,\n",
       " '50,000+': 4.773188896411646,\n",
       " '500,000+': 5.574362446400361,\n",
       " '5,000,000+': 6.82690137666441,\n",
       " '100+': 6.917174452719477,\n",
       " '1,000+': 8.395396073121193,\n",
       " '10,000+': 10.212141728729407,\n",
       " '10,000,000+': 10.550665763935905,\n",
       " '100,000+': 11.543669600541637,\n",
       " '1,000,000+': 15.730083502595352}"
      ]
     },
     "execution_count": 55,
     "metadata": {},
     "output_type": "execute_result"
    }
   ],
   "source": [
    "freq_tab_sorted = frequency_table_Sorted(data_set = play_store_eng_free, column_index = 5) # Installs feature, column 5\n",
    "freq_tab_sorted"
   ]
  },
  {
   "cell_type": "code",
   "execution_count": 56,
   "metadata": {},
   "outputs": [],
   "source": [
    "# play_store_eng_free[1]"
   ]
  },
  {
   "cell_type": "code",
   "execution_count": 57,
   "metadata": {},
   "outputs": [],
   "source": [
    "for app in play_store_eng_free:\n",
    "    if app[2] == 'Health & Fitness':\n",
    "#        print(app[1], ':', app[5])\n",
    "#        if int(app[5]) > 100000:\n",
    "             print('{:_<60}{:''>8}'.format(app[1], app[5]))"
   ]
  },
  {
   "cell_type": "code",
   "execution_count": 58,
   "metadata": {},
   "outputs": [],
   "source": [
    "# Play Store: column index = 5 => 'Instlalls' feature\n",
    "\n",
    "category_play_store = frequency_table(data_set =  play_store_eng_free, column_index = 1)\n",
    "\n",
    "dict_category = {}\n",
    "tabb =[]\n",
    "\n",
    "for category in category_play_store:\n",
    "    count = 0                          # stores the number of ratings for each genre\n",
    "    len_category = 0                   # stores the number of apps for each genre\n",
    "    for app in play_store_eng_free:    # loop over App Store data set\n",
    "        category_app = app[1]\n",
    "        if category_app == category:       \n",
    "            n_installs = app[5]       # number of user ratings\n",
    "            n_installs = n_installs.replace(',','')\n",
    "            n_installs = n_installs.replace('+','')\n",
    "            count += float(n_installs)\n",
    "            len_category += 1   \n",
    "    avg_n_installs = count / len_category\n",
    "    dict_category[category] = avg_n_installs\n",
    "    tupleware = (dict_category[category], category)\n",
    "    tabb.append(tupleware)\n",
    "    ordered_tabb = sorted(tabb)\n",
    "    ordered_tabb_dict = dict(ordered_tabb)               # transform into a dictionary: to be plot a graph with matlibplot                 \n",
    "    inv_ordered_tabb_dict = {v: k for k, v in ordered_tabb_dict.items()}    # invert dictionary key and value\n",
    "    \n",
    "#    print(category, ':', avg_n_installs)\n",
    "    "
   ]
  },
  {
   "cell_type": "code",
   "execution_count": 59,
   "metadata": {},
   "outputs": [
    {
     "data": {
      "text/plain": [
       "{'MEDICAL': 120616.48717948717,\n",
       " 'EVENTS': 253542.22222222222,\n",
       " 'BEAUTY': 513151.88679245283,\n",
       " 'PARENTING': 542603.6206896552,\n",
       " 'LIBRARIES_AND_DEMO': 638503.734939759,\n",
       " 'AUTO_AND_VEHICLES': 647317.8170731707,\n",
       " 'COMICS': 817657.2727272727,\n",
       " 'DATING': 854028.8303030303,\n",
       " 'HOUSE_AND_HOME': 1313681.9054054054,\n",
       " 'FINANCE': 1387692.475609756,\n",
       " 'LIFESTYLE': 1437816.2687861272,\n",
       " 'BUSINESS': 1712290.1474201474,\n",
       " 'ART_AND_DESIGN': 1905351.6666666667,\n",
       " 'FOOD_AND_DRINK': 1924897.7363636363,\n",
       " 'FAMILY': 2691618.159021407,\n",
       " 'EDUCATION': 3082017.543859649,\n",
       " 'SPORTS': 3638640.1428571427,\n",
       " 'MAPS_AND_NAVIGATION': 4056941.7741935486,\n",
       " 'HEALTH_AND_FITNESS': 4188821.9853479853,\n",
       " 'WEATHER': 5074486.197183099,\n",
       " 'PERSONALIZATION': 5201482.6122448975,\n",
       " 'SHOPPING': 7036877.311557789,\n",
       " 'BOOKS_AND_REFERENCE': 8767811.894736841,\n",
       " 'NEWS_AND_MAGAZINES': 9549178.467741935,\n",
       " 'TOOLS': 10695245.286096256,\n",
       " 'TRAVEL_AND_LOCAL': 13984077.710144928,\n",
       " 'GAME': 15837565.085714286,\n",
       " 'PRODUCTIVITY': 16787331.344927534,\n",
       " 'PHOTOGRAPHY': 17805627.643678162,\n",
       " 'ENTERTAINMENT': 21134600.0,\n",
       " 'SOCIAL': 23253652.127118643,\n",
       " 'VIDEO_PLAYERS': 24852732.40506329,\n",
       " 'COMMUNICATION': 38456119.167247385}"
      ]
     },
     "execution_count": 59,
     "metadata": {},
     "output_type": "execute_result"
    }
   ],
   "source": [
    "inv_ordered_tabb_dict"
   ]
  },
  {
   "cell_type": "code",
   "execution_count": 60,
   "metadata": {},
   "outputs": [
    {
     "data": {
      "image/png": "[encoded data removed]",
      "text/plain": [
       "<Figure size 864x576 with 1 Axes>"
      ]
     },
     "metadata": {
      "needs_background": "light"
     },
     "output_type": "display_data"
    },
    {
     "name": "stdout",
     "output_type": "stream",
     "text": [
      "\u001b[1m Figure 8 \u001b[0m. Average number of installs for the most popular apps at the Play Store.\n",
      "\n"
     ]
    }
   ],
   "source": [
    "index = np.arange(0, len(inv_ordered_tabb_dict), 1)        #  a numpy methot that generates an array of sequential numbers\n",
    "width = 0.9\n",
    "bar_width = 1.0\n",
    "\n",
    "plt.figure(figsize=(12, 8))\n",
    "plt.barh(index, \n",
    "        inv_ordered_tabb_dict.values(), \n",
    "        width, \n",
    "        bar_width, \n",
    "        align='center',\n",
    "        color='skyblue')\n",
    "\n",
    "plt.ylabel('most popular genres', fontsize=14, labelpad=20, weight='bold', size=18)\n",
    "plt.xlabel('average number of installs', fontsize=15, labelpad=20, weight='bold', size=18)\n",
    "plt.yticks(index, inv_ordered_tabb_dict.keys(), fontsize=12, rotation=0)\n",
    "plt.xticks(fontsize=15)\n",
    "plt.tick_params(axis='y', which='major', pad=5)\n",
    "#plt.xlim(0, 4)\n",
    "# plt.tick_params(axis=\"both\", which=\"both\", bottom=\"off\", top=\"off\", labelbottom=\"on\", left=\"off\", right=\"off\", labelleft=\"on\")\n",
    "plt.title(\"'PLAY STORE: feature 'Installs'\", fontsize=25)\n",
    "plt.show()\n",
    "print('\\033[1m Figure 8 \\033[0m. Average number of installs for the most popular apps at the Play Store.\\n')  # using unicode for bold"
   ]
  },
  {
   "cell_type": "markdown",
   "metadata": {},
   "source": [
    "The most installed apps at the Play Store, with 38,456,119 installs, are communication apps. Each one of the following apps, Messenger, WhatsApp, Google Chrome, Gmail Hangouts, has 1 billion installs, while a few others have 100 and 500 million installs. If we do not take into account the apps with over 100 million installs, the average will be greater reduced about 10 times (see calculation below). The category video players comes in second place with 24,852,732 installs where YouTube, Google Play Movies & TV, and MX Player top the list. The category social ranks third and displays the same pattern as previously noted, i.e., giants (Facebook, Instagram, Google+) figure on the first places of the list. The same observation holds for other categories as entertainment, photography, productivity.  As we can see, the market is dominated by the largest companies in the sector and it would be hard to compete against them.\n",
    "\n",
    "After exploring categories it seems that last two of our previous app ideas for the App Store also would have space here in the categories parenting and medical. Choosing not to hit the giants could increase the chances of success of this new product."
   ]
  },
  {
   "cell_type": "code",
   "execution_count": 61,
   "metadata": {},
   "outputs": [
    {
     "name": "stdout",
     "output_type": "stream",
     "text": [
      "\n",
      "\n"
     ]
    },
    {
     "data": {
      "text/plain": [
       "3603485.3884615386"
      ]
     },
     "execution_count": 61,
     "metadata": {},
     "output_type": "execute_result"
    }
   ],
   "source": [
    "under_100_m = []\n",
    "\n",
    "for app in play_store_eng_free:\n",
    "    n_installs = app[5]\n",
    "    n_installs = n_installs.replace(',', '')\n",
    "    n_installs = n_installs.replace('+', '')\n",
    "    if (app[1] == 'COMMUNICATION') and (float(n_installs) < 100000000):\n",
    "        under_100_m.append(float(n_installs))\n",
    "    if (app[1] == 'COMMUNICATION') and (float(n_installs) > 1000000000):        \n",
    "        print('{:_<60}{:''>8}'.format(app[0], app[5]))\n",
    "print('\\n')\n",
    "sum(under_100_m) / len(under_100_m)"
   ]
  },
  {
   "cell_type": "code",
   "execution_count": 62,
   "metadata": {},
   "outputs": [
    {
     "name": "stdout",
     "output_type": "stream",
     "text": [
      "YouTube_____________________________________________________1,000,000,000+\n",
      "Google Play Movies & TV_____________________________________1,000,000,000+\n",
      "MX Player___________________________________________________500,000,000+\n",
      "\n",
      "\n"
     ]
    }
   ],
   "source": [
    "for app in play_store_eng_free:\n",
    "    n_installs = app[5]\n",
    "    n_installs = n_installs.replace(',', '')\n",
    "    n_installs = n_installs.replace('+', '')\n",
    "\n",
    "    if (app[1] == 'VIDEO_PLAYERS') and (float(n_installs) > 100000000):        \n",
    "        print('{:_<60}{:''>8}'.format(app[0], app[5]))\n",
    "print('\\n')"
   ]
  },
  {
   "cell_type": "code",
   "execution_count": 63,
   "metadata": {},
   "outputs": [
    {
     "name": "stdout",
     "output_type": "stream",
     "text": [
      "Facebook____________________________________________________1,000,000,000+\n",
      "Instagram___________________________________________________1,000,000,000+\n",
      "Facebook Lite_______________________________________________500,000,000+\n",
      "Snapchat____________________________________________________500,000,000+\n",
      "Google+_____________________________________________________1,000,000,000+\n",
      "\n",
      "\n"
     ]
    }
   ],
   "source": [
    "for app in play_store_eng_free:\n",
    "    n_installs = app[5]\n",
    "    n_installs = n_installs.replace(',', '')\n",
    "    n_installs = n_installs.replace('+', '')\n",
    "\n",
    "    if (app[1] == 'SOCIAL') and (float(n_installs) > 100000000):        \n",
    "        print('{:_<60}{:''>8}'.format(app[0], app[5]))\n",
    "print('\\n')"
   ]
  },
  {
   "cell_type": "code",
   "execution_count": 64,
   "metadata": {},
   "outputs": [
    {
     "name": "stdout",
     "output_type": "stream",
     "text": [
      "Netflix_____________________________________________________100,000,000+\n",
      "YouTube Kids________________________________________________50,000,000+\n",
      "Google Play Games___________________________________________1,000,000,000+\n",
      "Hotstar_____________________________________________________100,000,000+\n",
      "Talking Angela______________________________________________100,000,000+\n",
      "Talking Ginger 2____________________________________________50,000,000+\n",
      "Amazon Prime Video__________________________________________50,000,000+\n",
      "IMDb Movies & TV____________________________________________100,000,000+\n",
      "Twitch: Livestream Multiplayer Games & Esports______________50,000,000+\n",
      "PlayStation App_____________________________________________50,000,000+\n",
      "Talking Ben the Dog_________________________________________100,000,000+\n",
      "\n",
      "\n"
     ]
    }
   ],
   "source": [
    "for app in play_store_eng_free:\n",
    "    n_installs = app[5]\n",
    "    n_installs = n_installs.replace(',', '')\n",
    "    n_installs = n_installs.replace('+', '')\n",
    "\n",
    "    if (app[1] == 'ENTERTAINMENT') and (float(n_installs) > 10000000):        \n",
    "        print('{:_<60}{:''>8}'.format(app[0], app[5]))\n",
    "print('\\n')"
   ]
  },
  {
   "cell_type": "code",
   "execution_count": 65,
   "metadata": {},
   "outputs": [
    {
     "name": "stdout",
     "output_type": "stream",
     "text": [
      "Google Photos_______________________________________________1,000,000,000+\n",
      "B612 - Beauty & Filter Camera_______________________________100,000,000+\n",
      "YouCam Makeup - Magic Selfie Makeovers______________________100,000,000+\n",
      "BeautyPlus - Easy Photo Editor & Selfie Camera______________100,000,000+\n",
      "Sweet Selfie - selfie camera, beauty cam, photo edit________100,000,000+\n",
      "YouCam Perfect - Selfie Photo Editor________________________100,000,000+\n",
      "Cymera Camera- Photo Editor, Filter,Collage,Layout__________100,000,000+\n",
      "LINE Camera - Photo editor__________________________________100,000,000+\n",
      "Candy Camera - selfie, beauty camera, photo editor__________100,000,000+\n",
      "Camera360: Selfie Photo Editor with Funny Sticker___________100,000,000+\n",
      "Photo Editor Pro____________________________________________100,000,000+\n",
      "Retrica_____________________________________________________100,000,000+\n",
      "PicsArt Photo Studio: Collage Maker & Pic Editor____________100,000,000+\n",
      "Photo Collage Editor________________________________________100,000,000+\n",
      "Z Camera - Photo Editor, Beauty Selfie, Collage_____________100,000,000+\n",
      "PhotoGrid: Video & Pic Collage Maker, Photo Editor__________100,000,000+\n",
      "S Photo Editor - Collage Maker , Photo Collage______________100,000,000+\n",
      "AR effect___________________________________________________100,000,000+\n",
      "Photo Editor Collage Maker Pro______________________________100,000,000+\n",
      "\n",
      "\n"
     ]
    }
   ],
   "source": [
    "for app in play_store_eng_free:\n",
    "    n_installs = app[5]\n",
    "    n_installs = n_installs.replace(',', '')\n",
    "    n_installs = n_installs.replace('+', '')\n",
    "\n",
    "    if (app[1] == 'PHOTOGRAPHY') and (float(n_installs) > 50000000):        \n",
    "        print('{:_<60}{:''>8}'.format(app[0], app[5]))\n",
    "print('\\n')"
   ]
  },
  {
   "cell_type": "code",
   "execution_count": 66,
   "metadata": {},
   "outputs": [
    {
     "name": "stdout",
     "output_type": "stream",
     "text": [
      "Microsoft Word______________________________________________500,000,000+\n",
      "Google Drive________________________________________________1,000,000,000+\n",
      "Dropbox_____________________________________________________500,000,000+\n",
      "Google Calendar_____________________________________________500,000,000+\n",
      "Cloud Print_________________________________________________500,000,000+\n",
      "\n",
      "\n"
     ]
    }
   ],
   "source": [
    "for app in play_store_eng_free:\n",
    "    n_installs = app[5]\n",
    "    n_installs = n_installs.replace(',', '')\n",
    "    n_installs = n_installs.replace('+', '')\n",
    "\n",
    "    if (app[1] == 'PRODUCTIVITY') and (float(n_installs) > 100000000):        \n",
    "        print('{:_<60}{:''>8}'.format(app[0], app[5]))\n",
    "print('\\n')"
   ]
  },
  {
   "cell_type": "code",
   "execution_count": 67,
   "metadata": {},
   "outputs": [
    {
     "name": "stdout",
     "output_type": "stream",
     "text": [
      "Subway Surfers______________________________________________1,000,000,000+\n",
      "Candy Crush Saga____________________________________________500,000,000+\n",
      "Temple Run 2________________________________________________500,000,000+\n",
      "Pou_________________________________________________________500,000,000+\n",
      "My Talking Tom______________________________________________500,000,000+\n",
      "\n",
      "\n"
     ]
    }
   ],
   "source": [
    "for app in play_store_eng_free:\n",
    "    n_installs = app[5]\n",
    "    n_installs = n_installs.replace(',', '')\n",
    "    n_installs = n_installs.replace('+', '')\n",
    "\n",
    "    if (app[1] == 'GAME') and (float(n_installs) > 100000000):        \n",
    "        print('{:_<60}{:''>8}'.format(app[0], app[5]))\n",
    "print('\\n')"
   ]
  },
  {
   "cell_type": "code",
   "execution_count": 68,
   "metadata": {},
   "outputs": [
    {
     "name": "stdin",
     "output_type": "stream",
     "text": [
      "In which category (see Figure 8) from Play Store are you interested in?  BEAUTY\n",
      "Diplay entries with installs greater than:  500000\n"
     ]
    },
    {
     "name": "stdout",
     "output_type": "stream",
     "text": [
      "\n",
      "\n",
      "ipsy: Makeup, Beauty, and Tips______________________________1,000,000+\n",
      "Mirror - Zoom & Exposure -__________________________________1,000,000+\n",
      "Filters for Selfie__________________________________________1,000,000+\n",
      "Ulta Beauty_________________________________________________1,000,000+\n",
      "Selfie Camera_______________________________________________1,000,000+\n",
      "Beauty Camera - Selfie Camera_______________________________10,000,000+\n",
      "Mirror Camera (Mirror + Selfie Camera)______________________1,000,000+\n",
      "Sephora: Skin Care, Beauty Makeup & Fragrance Shop__________1,000,000+\n",
      "Rainbow Camera______________________________________________1,000,000+\n",
      "Best Hairstyles step by step________________________________5,000,000+\n",
      "\n",
      "\n"
     ]
    }
   ],
   "source": [
    "CATEG_NAME = (input('In which category (see Figure 8) from Play Store are you interested in? '))\n",
    "LIMIT = int(input('Diplay entries with installs greater than: '))\n",
    "print('\\n')\n",
    "for app in play_store_eng_free:\n",
    "    n_installs = app[5]\n",
    "    n_installs = n_installs.replace(',', '')\n",
    "    n_installs = n_installs.replace('+', '')\n",
    "    \n",
    "    if (app[1] == CATEG_NAME) and (float(n_installs) > LIMIT):        \n",
    "        print('{:_<60}{:''>8}'.format(app[0], app[5]))\n",
    "print('\\n')"
   ]
  },
  {
   "cell_type": "markdown",
   "metadata": {},
   "source": [
    "## Final considerations\n",
    "\n",
    "Using data analytics made it possible to map the profile of English free apps from App Store and Play Store. From the knowledge of the most common apps and most popular ones, was possible to suggest three promising ideas to build new apps for both markets using the concept of gamification: **(i)** an app that proposes to make the search for shows on Netflix less painfull while integrates another functionalities, **(ii)** an app that would work as a social network for mums share what they want about their babies and **(iii)** an app to help the fight against dengue disease. Besides that, the suggested apps have a strong social-network DNA what could make them funny and addictive to the users. \n",
    "\n",
    "As expected, most of the time was consumed in cleaning the data. In addition, data visualization with Matplotlib make the analysis easier.  "
   ]
  }
 ],
 "metadata": {
  "kernelspec": {
   "display_name": "Python 3",
   "language": "python",
   "name": "python3"
  },
  "language_info": {
   "codemirror_mode": {
    "name": "ipython",
    "version": 3
   },
   "file_extension": ".py",
   "mimetype": "text/x-python",
   "name": "python",
   "nbconvert_exporter": "python",
   "pygments_lexer": "ipython3",
   "version": "3.7.3"
  }
 },
 "nbformat": 4,
 "nbformat_minor": 4
}
